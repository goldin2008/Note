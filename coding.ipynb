{
 "cells": [
  {
   "cell_type": "markdown",
   "id": "a4d4021f-2a0b-45c4-b7ff-b0138c047393",
   "metadata": {},
   "source": [
    "# Binary Tree"
   ]
  },
  {
   "cell_type": "code",
   "execution_count": 1,
   "id": "7e358b71-70d2-484d-b4e1-a55523559853",
   "metadata": {},
   "outputs": [],
   "source": [
    "class TreeNode:\n",
    "    def __init__(self, value):\n",
    "        self.vaule = vaule\n",
    "        self.left = None\n",
    "        self.right = None"
   ]
  },
  {
   "cell_type": "code",
   "execution_count": 2,
   "id": "087fd06d-e541-45a4-965c-c9e8fbe0fdf7",
   "metadata": {},
   "outputs": [],
   "source": [
    "from typing import List\n",
    "\n",
    "class Solution:\n",
    "    \"\"\"二叉树层序遍历迭代解法\"\"\"\n",
    "\n",
    "    def levelOrder(self, root: TreeNode) -> List[List[int]]:\n",
    "        results = []\n",
    "        if not root:\n",
    "            return results\n",
    "        \n",
    "        from collections import deque\n",
    "        que = deque([root])\n",
    "        \n",
    "        while que:\n",
    "            size = len(que)\n",
    "            result = []\n",
    "            for _ in range(size):\n",
    "                cur = que.popleft()\n",
    "                result.append(cur.value)\n",
    "                if cur.left:\n",
    "                    que.append(cur.left)\n",
    "                if cur.right:\n",
    "                    que.append(cur.right)\n",
    "            results.append(result)\n",
    "\n",
    "        return results\n",
    "\n",
    "def levelOrder(root: TreeNode) -> List[List[int]]:\n",
    "    results = []\n",
    "    if not root:\n",
    "        return results\n",
    "\n",
    "    from collections import deque\n",
    "    que = deque([root])\n",
    "\n",
    "    while que:\n",
    "        size = len(que)\n",
    "        result = []\n",
    "        for _ in range(size):\n",
    "            cur = que.popleft()\n",
    "            result.append(cur.value)\n",
    "            if cur.left:\n",
    "                que.append(cur.left)\n",
    "            if cur.right:\n",
    "                que.append(cur.right)\n",
    "        results.append(result)\n",
    "\n",
    "    return results"
   ]
  },
  {
   "cell_type": "code",
   "execution_count": 3,
   "id": "6f59e5b5-563e-4833-8a43-3bcc1515b6a0",
   "metadata": {},
   "outputs": [
    {
     "name": "stdout",
     "output_type": "stream",
     "text": [
      "None 9 None 3 15 20 7 3\n"
     ]
    }
   ],
   "source": [
    "# Python3 program to construct binary \n",
    "# tree from given array in level \n",
    "# order fashion Tree Node \n",
    "  \n",
    "# Helper function that allocates a \n",
    "#new node\n",
    "class newNode:\n",
    "    def __init__(self, value):\n",
    "        self.value = value \n",
    "        self.left = self.right = None\n",
    "  \n",
    "# Function to insert nodes in level order \n",
    "def insertLevelOrder(arr, i, n):\n",
    "    root = None\n",
    "    # Base case for recursion \n",
    "    if i < n:\n",
    "        root = newNode(arr[i]) \n",
    "  \n",
    "        # insert left child \n",
    "        root.left = insertLevelOrder(arr, 2 * i + 1, n)\n",
    "  \n",
    "        # insert right child \n",
    "        root.right = insertLevelOrder(arr, 2 * i + 2, n)\n",
    "          \n",
    "    return root\n",
    "  \n",
    "# Function to print tree nodes in \n",
    "# InOrder fashion \n",
    "def inOrder(root):\n",
    "    if root != None:\n",
    "        inOrder(root.left) \n",
    "        print(root.value,end=\" \") \n",
    "        inOrder(root.right)\n",
    "\n",
    "# Driver Code\n",
    "if __name__ == '__main__':\n",
    "    arr = [3,9,20,None,None,15,7]\n",
    "    n = len(arr)\n",
    "    root = None\n",
    "    root = insertLevelOrder(arr, 0, n) \n",
    "    inOrder(root)\n",
    "    print(root.value)"
   ]
  },
  {
   "cell_type": "code",
   "execution_count": 4,
   "id": "73282180-6341-4e67-85b9-41cc92ad186f",
   "metadata": {},
   "outputs": [
    {
     "data": {
      "text/plain": [
       "[[3], [9, 20], [None, None, 15, 7]]"
      ]
     },
     "execution_count": 4,
     "metadata": {},
     "output_type": "execute_result"
    }
   ],
   "source": [
    "levelOrder(root)"
   ]
  },
  {
   "cell_type": "code",
   "execution_count": 5,
   "id": "c3daf5d3-3086-41a7-9694-83c42d3ad1d3",
   "metadata": {},
   "outputs": [
    {
     "name": "stdout",
     "output_type": "stream",
     "text": [
      "1\n",
      "2\n",
      "3\n",
      "4\n"
     ]
    }
   ],
   "source": [
    "for i in range(1,5):\n",
    "    print(i)"
   ]
  },
  {
   "cell_type": "code",
   "execution_count": 6,
   "id": "830f2599-4fa3-423f-a014-644aacfe1510",
   "metadata": {},
   "outputs": [
    {
     "name": "stdout",
     "output_type": "stream",
     "text": [
      "[[1, 2, 3]]\n"
     ]
    }
   ],
   "source": [
    "path = [1,2,3]\n",
    "res = []\n",
    "res.append(path[:])\n",
    "print(res)"
   ]
  },
  {
   "cell_type": "code",
   "execution_count": 7,
   "id": "5bff8169-2854-41f7-b41b-d7f03241a851",
   "metadata": {},
   "outputs": [
    {
     "name": "stdout",
     "output_type": "stream",
     "text": [
      "0 a a\n",
      "1 a aa\n",
      "2 b aab\n",
      "3 b aabb\n",
      "4 c aabbc\n"
     ]
    }
   ],
   "source": [
    "s = 'aabbc'\n",
    "for i in range(0, len(s)):\n",
    "    print(i, s[i], s[0:i+1])"
   ]
  },
  {
   "cell_type": "code",
   "execution_count": 8,
   "id": "e1e2a1a8-eb98-4b8c-a83e-9560c2567be5",
   "metadata": {},
   "outputs": [
    {
     "data": {
      "text/plain": [
       "[['.', '.', '.', '.'],\n",
       " ['.', '.', '.', '.'],\n",
       " ['.', '.', '.', '.'],\n",
       " ['.', '.', '.', '.']]"
      ]
     },
     "execution_count": 8,
     "metadata": {},
     "output_type": "execute_result"
    }
   ],
   "source": [
    "n = 4\n",
    "board = [['.'] * n for _ in range(n)]\n",
    "board"
   ]
  },
  {
   "cell_type": "code",
   "execution_count": 9,
   "id": "2444391d-d4f4-432d-a640-a8c588ef1001",
   "metadata": {},
   "outputs": [
    {
     "data": {
      "text/plain": [
       "[[1, 1, 1], [1, 1, 1]]"
      ]
     },
     "execution_count": 9,
     "metadata": {},
     "output_type": "execute_result"
    }
   ],
   "source": [
    "dp = [[1 for i in range(3)] for j in range(2)]\n",
    "dp"
   ]
  },
  {
   "cell_type": "code",
   "execution_count": 10,
   "id": "ed650a78-d97d-4d3c-a32d-f64e1b3086f6",
   "metadata": {},
   "outputs": [
    {
     "data": {
      "text/plain": [
       "[[1, 1, 1], [1, 1, 1]]"
      ]
     },
     "execution_count": 10,
     "metadata": {},
     "output_type": "execute_result"
    }
   ],
   "source": [
    "dp = [[1 for _ in range(3)] for _ in range(2)]\n",
    "dp"
   ]
  },
  {
   "cell_type": "code",
   "execution_count": 22,
   "id": "f997eb25-8627-4b94-b170-dd1c8587ce33",
   "metadata": {},
   "outputs": [],
   "source": [
    "class Solution:\n",
    "    def sortArray(self, nums: List[int]) -> List[int]:\n",
    "        # self.quickSort(nums)\n",
    "        # self.mergeSort(nums)\n",
    "        # self.bubbleSort(nums)\n",
    "        # self.insertionSort(nums)\n",
    "        # self.selectionSort(nums)\n",
    "        self.heapSort(nums)\n",
    "        return nums\n",
    "    \n",
    "    # @bubbleSort, TLE\n",
    "    def bubbleSort(self, nums):\n",
    "        n = len(nums)\n",
    "        for i in range(n):\n",
    "            for j in range(0, n - i - 1):\n",
    "                if nums[j] > nums[j + 1]:\n",
    "                    nums[j], nums[j + 1] = nums[j + 1], nums[j]\n",
    "                    \n",
    "    # @insertionSort, TLE\n",
    "    def insertionSort(self, nums): \n",
    "        for i in range(1, len(nums)): \n",
    "            key = nums[i]\n",
    "            j = i-1\n",
    "            while j >= 0 and key < nums[j] : \n",
    "                    nums[j + 1] = nums[j] \n",
    "                    j -= 1\n",
    "            nums[j + 1] = key\n",
    "\n",
    "    # @selectionSort, TLE\n",
    "    def selectionSort(self, nums):\n",
    "        for i in range(len(nums)):\n",
    "            _min = min(nums[i:])\n",
    "            min_index = nums[i:].index(_min)\n",
    "            nums[i + min_index] = nums[i]\n",
    "            nums[i] = _min\n",
    "        return nums\n",
    "    \n",
    "    # @quickSort\n",
    "    def quickSort(self, nums):\n",
    "        def helper(head, tail):\n",
    "            if head >= tail: return \n",
    "            l, r = head, tail\n",
    "            m = (r - l) // 2 + l\n",
    "            pivot = nums[m]\n",
    "            while r >= l:\n",
    "                while r >= l and nums[l] < pivot: l += 1\n",
    "                while r >= l and nums[r] > pivot: r -= 1\n",
    "                if r >= l:\n",
    "                    nums[l], nums[r] = nums[r], nums[l]\n",
    "                    l += 1\n",
    "                    r -= 1\n",
    "            helper(head, r)\n",
    "            helper(l, tail)\n",
    "\n",
    "        helper(0, len(nums)-1)\n",
    "        return nums\n",
    "     \n",
    "    # @mergeSort\n",
    "    def mergeSort(self, nums): \n",
    "        if len(nums) > 1: \n",
    "            mid = len(nums)//2\n",
    "            L = nums[:mid] \n",
    "            R = nums[mid:] \n",
    "\n",
    "            self.mergeSort(L)\n",
    "            self.mergeSort(R)\n",
    "\n",
    "            i = j = k = 0\n",
    "\n",
    "            while i < len(L) and j < len(R): \n",
    "                if L[i] < R[j]: \n",
    "                    nums[k] = L[i] \n",
    "                    i+=1\n",
    "                else: \n",
    "                    nums[k] = R[j] \n",
    "                    j+=1\n",
    "                k+=1\n",
    " \n",
    "            while i < len(L): \n",
    "                nums[k] = L[i] \n",
    "                i+=1\n",
    "                k+=1\n",
    "\n",
    "            while j < len(R): \n",
    "                nums[k] = R[j] \n",
    "                j+=1\n",
    "                k+=1\n",
    "   \n",
    "   # @heapSort\n",
    "    def heapSort(self, nums):\n",
    "        def heapify(nums, n, i): \n",
    "            l = 2 * i + 1\n",
    "            r = 2 * i + 2\n",
    "\n",
    "            largest = i\n",
    "            if l < n and nums[largest] < nums[l]: \n",
    "                largest = l \n",
    "\n",
    "            if r < n and nums[largest] < nums[r]: \n",
    "                largest = r \n",
    "\n",
    "            if largest != i: \n",
    "                nums[i], nums[largest] = nums[largest], nums[i]\n",
    "                \n",
    "                heapify(nums, n, largest)\n",
    "                \n",
    "        n = len(nums) \n",
    "\n",
    "        for i in range(n//2+1)[::-1]: \n",
    "            heapify(nums, n, i) \n",
    "\n",
    "        for i in range(n)[::-1]: \n",
    "            nums[i], nums[0] = nums[0], nums[i]\n",
    "            heapify(nums, i, 0) "
   ]
  },
  {
   "cell_type": "code",
   "execution_count": 23,
   "id": "9f8bbb30-4322-49cd-8899-5283b1742010",
   "metadata": {},
   "outputs": [],
   "source": [
    "sol = Solution()"
   ]
  },
  {
   "cell_type": "code",
   "execution_count": 41,
   "id": "c6fc97c1-edd4-4515-8e34-62642cd61dc0",
   "metadata": {},
   "outputs": [
    {
     "name": "stdout",
     "output_type": "stream",
     "text": [
      "('bubbleSort', <function Solution.bubbleSort at 0x110013370>)\n"
     ]
    },
    {
     "ename": "AttributeError",
     "evalue": "type object 'Solution' has no attribute 'm'",
     "output_type": "error",
     "traceback": [
      "\u001b[0;31m---------------------------------------------------------------------------\u001b[0m",
      "\u001b[0;31mAttributeError\u001b[0m                            Traceback (most recent call last)",
      "Input \u001b[0;32mIn [41]\u001b[0m, in \u001b[0;36m<cell line: 3>\u001b[0;34m()\u001b[0m\n\u001b[1;32m      3\u001b[0m \u001b[38;5;28;01mfor\u001b[39;00m m \u001b[38;5;129;01min\u001b[39;00m method_list:\n\u001b[1;32m      4\u001b[0m     \u001b[38;5;28mprint\u001b[39m(m)\n\u001b[0;32m----> 5\u001b[0m     b \u001b[38;5;241m=\u001b[39m \u001b[43mSolution\u001b[49m\u001b[38;5;241;43m.\u001b[39;49m\u001b[43mm\u001b[49m(a)\n\u001b[1;32m      6\u001b[0m     \u001b[38;5;28mprint\u001b[39m(m, a)\n",
      "\u001b[0;31mAttributeError\u001b[0m: type object 'Solution' has no attribute 'm'"
     ]
    }
   ],
   "source": [
    "a = [1,3,5,2,4,6]\n",
    "# method_list = [method for method in dir(Solution) if method.startswith('__') is False]\n",
    "for m in method_list:\n",
    "    print(m)\n",
    "    b = Solution.m(a)\n",
    "    print(m, a)"
   ]
  },
  {
   "cell_type": "code",
   "execution_count": 31,
   "id": "d7172dfe-0a4a-42f7-8707-d04a1385eec4",
   "metadata": {},
   "outputs": [
    {
     "data": {
      "text/plain": [
       "['bubbleSort',\n",
       " 'heapSort',\n",
       " 'insertionSort',\n",
       " 'mergeSort',\n",
       " 'quickSort',\n",
       " 'selectionSort',\n",
       " 'sortArray']"
      ]
     },
     "execution_count": 31,
     "metadata": {},
     "output_type": "execute_result"
    }
   ],
   "source": [
    "method_list = [method for method in dir(Solution) if method.startswith('__') is False]\n",
    "method_list"
   ]
  },
  {
   "cell_type": "code",
   "execution_count": 33,
   "id": "3d81eb98-a6cd-4546-9665-fa4fa1a7383e",
   "metadata": {},
   "outputs": [
    {
     "name": "stdout",
     "output_type": "stream",
     "text": [
      "['bubbleSort', 'heapSort', 'insertionSort', 'mergeSort', 'quickSort', 'selectionSort', 'sortArray']\n"
     ]
    }
   ],
   "source": [
    "method_list = []\n",
    " \n",
    "# attribute is a string representing the attribute name\n",
    "for attribute in dir(Solution):\n",
    "    # Get the attribute value\n",
    "    attribute_value = getattr(Solution, attribute)\n",
    "    # Check that it is callable\n",
    "    if callable(attribute_value):\n",
    "        # Filter all dunder (__ prefix) methods\n",
    "        if attribute.startswith('__') == False:\n",
    "            method_list.append(attribute)\n",
    " \n",
    "print(method_list)"
   ]
  },
  {
   "cell_type": "code",
   "execution_count": 38,
   "id": "9ff59bbb-b8ab-4be5-92ca-c4564acc657d",
   "metadata": {},
   "outputs": [
    {
     "name": "stdout",
     "output_type": "stream",
     "text": [
      "[('bubbleSort', <function Solution.bubbleSort at 0x110013370>), ('heapSort', <function Solution.heapSort at 0x110178040>), ('insertionSort', <function Solution.insertionSort at 0x110013880>), ('mergeSort', <function Solution.mergeSort at 0x110013250>), ('quickSort', <function Solution.quickSort at 0x110013d90>), ('selectionSort', <function Solution.selectionSort at 0x110012a70>), ('sortArray', <function Solution.sortArray at 0x110011ea0>)]\n"
     ]
    }
   ],
   "source": [
    "import inspect\n",
    "\n",
    "# Get the list of functions\n",
    "# method_list = inspect.getmembers(Solution, predicate=inspect.ismethod)\n",
    "method_list = inspect.getmembers(Solution, predicate=inspect.isfunction)\n",
    "print(method_list)"
   ]
  },
  {
   "cell_type": "code",
   "execution_count": 1,
   "id": "42a8db86-1aa9-476e-ab47-870d9ed1535b",
   "metadata": {},
   "outputs": [
    {
     "name": "stdout",
     "output_type": "stream",
     "text": [
      "0\n",
      "1\n",
      "2\n",
      "3\n"
     ]
    }
   ],
   "source": [
    "for i in range(4):\n",
    "    print(i)"
   ]
  },
  {
   "cell_type": "code",
   "execution_count": 4,
   "id": "ba7bfc1f-10df-437a-8718-6db72369215b",
   "metadata": {},
   "outputs": [
    {
     "name": "stdout",
     "output_type": "stream",
     "text": [
      "1\n",
      "2\n",
      "3\n"
     ]
    }
   ],
   "source": [
    "for i in range(1, 4):\n",
    "    print(i)"
   ]
  },
  {
   "cell_type": "code",
   "execution_count": 1,
   "id": "bef8fe62-7a69-44a4-9663-18f940c1ec54",
   "metadata": {},
   "outputs": [],
   "source": [
    "class Person:\n",
    "    \"This is a person class\"\n",
    "    age = 10\n",
    "\n",
    "    def greet(self):\n",
    "        print('Hello')"
   ]
  },
  {
   "cell_type": "code",
   "execution_count": 2,
   "id": "27435eb3-5c7b-41c8-ac2a-df5e8254aa41",
   "metadata": {},
   "outputs": [
    {
     "name": "stdout",
     "output_type": "stream",
     "text": [
      "Hello\n"
     ]
    }
   ],
   "source": [
    "# create a new object of Person class\n",
    "harry = Person()\n",
    "\n",
    "harry.greet()"
   ]
  },
  {
   "cell_type": "code",
   "execution_count": 3,
   "id": "d9fdd089-0932-40cf-bb49-279200fd8b75",
   "metadata": {},
   "outputs": [
    {
     "name": "stdout",
     "output_type": "stream",
     "text": [
      "Hello\n"
     ]
    }
   ],
   "source": [
    "Person.greet(harry)"
   ]
  },
  {
   "cell_type": "code",
   "execution_count": 4,
   "id": "734d38c7-5a47-4086-b855-9a54849c60e3",
   "metadata": {},
   "outputs": [],
   "source": [
    "import config"
   ]
  },
  {
   "cell_type": "code",
   "execution_count": 7,
   "id": "8c21f8c8-1900-4233-995b-b70f532a173f",
   "metadata": {},
   "outputs": [],
   "source": [
    "config.Config.a = 4"
   ]
  },
  {
   "cell_type": "code",
   "execution_count": 8,
   "id": "f5a73ef7-bf69-49ec-b304-574a6b4323d8",
   "metadata": {},
   "outputs": [
    {
     "data": {
      "text/plain": [
       "4"
      ]
     },
     "execution_count": 8,
     "metadata": {},
     "output_type": "execute_result"
    }
   ],
   "source": [
    "config.Config.a"
   ]
  },
  {
   "cell_type": "code",
   "execution_count": 2,
   "id": "524c56e7-35e0-45f8-bb10-2402da33d185",
   "metadata": {},
   "outputs": [
    {
     "name": "stdout",
     "output_type": "stream",
     "text": [
      "a\n"
     ]
    }
   ],
   "source": [
    "a = None\n",
    "if a is None:\n",
    "    print('a')"
   ]
  },
  {
   "cell_type": "code",
   "execution_count": 3,
   "id": "96f80633-26bc-49c1-9237-ca707fc12963",
   "metadata": {},
   "outputs": [
    {
     "name": "stdout",
     "output_type": "stream",
     "text": [
      "b\n"
     ]
    }
   ],
   "source": [
    "if not a:\n",
    "    print('b')"
   ]
  },
  {
   "cell_type": "code",
   "execution_count": 3,
   "id": "0b411c6d-8f8a-4bb1-a440-c416b5727736",
   "metadata": {},
   "outputs": [
    {
     "name": "stdout",
     "output_type": "stream",
     "text": [
      "0\n"
     ]
    }
   ],
   "source": [
    "curr = '1'\n",
    "curr = chr(48 + (ord(curr) + 1) % 2)\n",
    "print(curr)"
   ]
  },
  {
   "cell_type": "code",
   "execution_count": 1,
   "id": "ed584b19-af2f-48df-b983-41fdd4302c26",
   "metadata": {},
   "outputs": [
    {
     "name": "stdout",
     "output_type": "stream",
     "text": [
      "4\n",
      "4\n",
      "4\n"
     ]
    }
   ],
   "source": [
    "n = 4\n",
    "for _ in range(1, n):\n",
    "    print(n)"
   ]
  },
  {
   "cell_type": "code",
   "execution_count": null,
   "id": "c808a4e7-bfae-4291-ba7f-5655cd71a152",
   "metadata": {},
   "outputs": [],
   "source": []
  }
 ],
 "metadata": {
  "kernelspec": {
   "display_name": "Python 3 (ipykernel)",
   "language": "python",
   "name": "python3"
  },
  "language_info": {
   "codemirror_mode": {
    "name": "ipython",
    "version": 3
   },
   "file_extension": ".py",
   "mimetype": "text/x-python",
   "name": "python",
   "nbconvert_exporter": "python",
   "pygments_lexer": "ipython3",
   "version": "3.10.6"
  }
 },
 "nbformat": 4,
 "nbformat_minor": 5
}
