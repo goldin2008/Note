{
 "cells": [
  {
   "cell_type": "markdown",
   "id": "a4d4021f-2a0b-45c4-b7ff-b0138c047393",
   "metadata": {},
   "source": [
    "# Binary Tree"
   ]
  },
  {
   "cell_type": "code",
   "execution_count": 1,
   "id": "7e358b71-70d2-484d-b4e1-a55523559853",
   "metadata": {},
   "outputs": [],
   "source": [
    "class TreeNode:\n",
    "    def __init__(self, value):\n",
    "        self.vaule = vaule\n",
    "        self.left = None\n",
    "        self.right = None"
   ]
  },
  {
   "cell_type": "code",
   "execution_count": 2,
   "id": "087fd06d-e541-45a4-965c-c9e8fbe0fdf7",
   "metadata": {},
   "outputs": [],
   "source": [
    "from typing import List\n",
    "\n",
    "class Solution:\n",
    "    \"\"\"二叉树层序遍历迭代解法\"\"\"\n",
    "\n",
    "    def levelOrder(self, root: TreeNode) -> List[List[int]]:\n",
    "        results = []\n",
    "        if not root:\n",
    "            return results\n",
    "        \n",
    "        from collections import deque\n",
    "        que = deque([root])\n",
    "        \n",
    "        while que:\n",
    "            size = len(que)\n",
    "            result = []\n",
    "            for _ in range(size):\n",
    "                cur = que.popleft()\n",
    "                result.append(cur.value)\n",
    "                if cur.left:\n",
    "                    que.append(cur.left)\n",
    "                if cur.right:\n",
    "                    que.append(cur.right)\n",
    "            results.append(result)\n",
    "\n",
    "        return results\n",
    "\n",
    "def levelOrder(root: TreeNode) -> List[List[int]]:\n",
    "    results = []\n",
    "    if not root:\n",
    "        return results\n",
    "\n",
    "    from collections import deque\n",
    "    que = deque([root])\n",
    "\n",
    "    while que:\n",
    "        size = len(que)\n",
    "        result = []\n",
    "        for _ in range(size):\n",
    "            cur = que.popleft()\n",
    "            result.append(cur.value)\n",
    "            if cur.left:\n",
    "                que.append(cur.left)\n",
    "            if cur.right:\n",
    "                que.append(cur.right)\n",
    "        results.append(result)\n",
    "\n",
    "    return results"
   ]
  },
  {
   "cell_type": "code",
   "execution_count": 3,
   "id": "6f59e5b5-563e-4833-8a43-3bcc1515b6a0",
   "metadata": {},
   "outputs": [
    {
     "name": "stdout",
     "output_type": "stream",
     "text": [
      "None 9 None 3 15 20 7 3\n"
     ]
    }
   ],
   "source": [
    "# Python3 program to construct binary \n",
    "# tree from given array in level \n",
    "# order fashion Tree Node \n",
    "  \n",
    "# Helper function that allocates a \n",
    "#new node\n",
    "class newNode:\n",
    "    def __init__(self, value):\n",
    "        self.value = value \n",
    "        self.left = self.right = None\n",
    "  \n",
    "# Function to insert nodes in level order \n",
    "def insertLevelOrder(arr, i, n):\n",
    "    root = None\n",
    "    # Base case for recursion \n",
    "    if i < n:\n",
    "        root = newNode(arr[i]) \n",
    "  \n",
    "        # insert left child \n",
    "        root.left = insertLevelOrder(arr, 2 * i + 1, n)\n",
    "  \n",
    "        # insert right child \n",
    "        root.right = insertLevelOrder(arr, 2 * i + 2, n)\n",
    "          \n",
    "    return root\n",
    "  \n",
    "# Function to print tree nodes in \n",
    "# InOrder fashion \n",
    "def inOrder(root):\n",
    "    if root != None:\n",
    "        inOrder(root.left) \n",
    "        print(root.value,end=\" \") \n",
    "        inOrder(root.right)\n",
    "\n",
    "# Driver Code\n",
    "if __name__ == '__main__':\n",
    "    arr = [3,9,20,None,None,15,7]\n",
    "    n = len(arr)\n",
    "    root = None\n",
    "    root = insertLevelOrder(arr, 0, n) \n",
    "    inOrder(root)\n",
    "    print(root.value)"
   ]
  },
  {
   "cell_type": "code",
   "execution_count": 4,
   "id": "73282180-6341-4e67-85b9-41cc92ad186f",
   "metadata": {},
   "outputs": [
    {
     "data": {
      "text/plain": [
       "[[3], [9, 20], [None, None, 15, 7]]"
      ]
     },
     "execution_count": 4,
     "metadata": {},
     "output_type": "execute_result"
    }
   ],
   "source": [
    "levelOrder(root)"
   ]
  },
  {
   "cell_type": "code",
   "execution_count": 5,
   "id": "c3daf5d3-3086-41a7-9694-83c42d3ad1d3",
   "metadata": {},
   "outputs": [
    {
     "name": "stdout",
     "output_type": "stream",
     "text": [
      "1\n",
      "2\n",
      "3\n",
      "4\n"
     ]
    }
   ],
   "source": [
    "for i in range(1,5):\n",
    "    print(i)"
   ]
  },
  {
   "cell_type": "code",
   "execution_count": 6,
   "id": "830f2599-4fa3-423f-a014-644aacfe1510",
   "metadata": {},
   "outputs": [
    {
     "name": "stdout",
     "output_type": "stream",
     "text": [
      "[[1, 2, 3]]\n"
     ]
    }
   ],
   "source": [
    "path = [1,2,3]\n",
    "res = []\n",
    "res.append(path[:])\n",
    "print(res)"
   ]
  },
  {
   "cell_type": "code",
   "execution_count": 7,
   "id": "5bff8169-2854-41f7-b41b-d7f03241a851",
   "metadata": {},
   "outputs": [
    {
     "name": "stdout",
     "output_type": "stream",
     "text": [
      "0 a a\n",
      "1 a aa\n",
      "2 b aab\n",
      "3 b aabb\n",
      "4 c aabbc\n"
     ]
    }
   ],
   "source": [
    "s = 'aabbc'\n",
    "for i in range(0, len(s)):\n",
    "    print(i, s[i], s[0:i+1])"
   ]
  },
  {
   "cell_type": "code",
   "execution_count": 8,
   "id": "e1e2a1a8-eb98-4b8c-a83e-9560c2567be5",
   "metadata": {},
   "outputs": [
    {
     "data": {
      "text/plain": [
       "[['.', '.', '.', '.'],\n",
       " ['.', '.', '.', '.'],\n",
       " ['.', '.', '.', '.'],\n",
       " ['.', '.', '.', '.']]"
      ]
     },
     "execution_count": 8,
     "metadata": {},
     "output_type": "execute_result"
    }
   ],
   "source": [
    "n = 4\n",
    "board = [['.'] * n for _ in range(n)]\n",
    "board"
   ]
  },
  {
   "cell_type": "code",
   "execution_count": 9,
   "id": "2444391d-d4f4-432d-a640-a8c588ef1001",
   "metadata": {},
   "outputs": [
    {
     "data": {
      "text/plain": [
       "[[1, 1, 1], [1, 1, 1]]"
      ]
     },
     "execution_count": 9,
     "metadata": {},
     "output_type": "execute_result"
    }
   ],
   "source": [
    "dp = [[1 for i in range(3)] for j in range(2)]\n",
    "dp"
   ]
  },
  {
   "cell_type": "code",
   "execution_count": 10,
   "id": "ed650a78-d97d-4d3c-a32d-f64e1b3086f6",
   "metadata": {},
   "outputs": [
    {
     "data": {
      "text/plain": [
       "[[1, 1, 1], [1, 1, 1]]"
      ]
     },
     "execution_count": 10,
     "metadata": {},
     "output_type": "execute_result"
    }
   ],
   "source": [
    "dp = [[1 for _ in range(3)] for _ in range(2)]\n",
    "dp"
   ]
  },
  {
   "cell_type": "code",
   "execution_count": null,
   "id": "f997eb25-8627-4b94-b170-dd1c8587ce33",
   "metadata": {},
   "outputs": [],
   "source": []
  }
 ],
 "metadata": {
  "kernelspec": {
   "display_name": "Python 3 (ipykernel)",
   "language": "python",
   "name": "python3"
  },
  "language_info": {
   "codemirror_mode": {
    "name": "ipython",
    "version": 3
   },
   "file_extension": ".py",
   "mimetype": "text/x-python",
   "name": "python",
   "nbconvert_exporter": "python",
   "pygments_lexer": "ipython3",
   "version": "3.10.6"
  }
 },
 "nbformat": 4,
 "nbformat_minor": 5
}
