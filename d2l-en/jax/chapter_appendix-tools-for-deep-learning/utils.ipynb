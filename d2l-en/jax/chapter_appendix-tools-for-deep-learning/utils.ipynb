{
 "cells": [
  {
   "cell_type": "markdown",
   "id": "1173a71a",
   "metadata": {
    "origin_pos": 1
   },
   "source": [
    "# Utility Functions and Classes\n",
    ":label:`sec_utils`\n",
    "\n",
    "\n",
    "This section contains the implementations of utility functions and classes used in this book.\n"
   ]
  },
  {
   "cell_type": "code",
   "execution_count": 1,
   "id": "40fbea1a",
   "metadata": {
    "execution": {
     "iopub.execute_input": "2023-08-18T19:40:43.096532Z",
     "iopub.status.busy": "2023-08-18T19:40:43.095896Z",
     "iopub.status.idle": "2023-08-18T19:40:48.716133Z",
     "shell.execute_reply": "2023-08-18T19:40:48.715106Z"
    },
    "origin_pos": 5,
    "tab": [
     "jax"
    ]
   },
   "outputs": [
    {
     "name": "stdout",
     "output_type": "stream",
     "text": [
      "No GPU/TPU found, falling back to CPU. (Set TF_CPP_MIN_LOG_LEVEL=0 and rerun for more info.)\n"
     ]
    }
   ],
   "source": [
    "import collections\n",
    "import inspect\n",
    "import jax\n",
    "from IPython import display\n",
    "from d2l import jax as d2l"
   ]
  },
  {
   "cell_type": "markdown",
   "id": "6797bccc",
   "metadata": {
    "origin_pos": 6
   },
   "source": [
    "Hyperparameters.\n"
   ]
  },
  {
   "cell_type": "code",
   "execution_count": 2,
   "id": "e4b116ad",
   "metadata": {
    "execution": {
     "iopub.execute_input": "2023-08-18T19:40:48.720413Z",
     "iopub.status.busy": "2023-08-18T19:40:48.719579Z",
     "iopub.status.idle": "2023-08-18T19:40:48.726311Z",
     "shell.execute_reply": "2023-08-18T19:40:48.725431Z"
    },
    "origin_pos": 7,
    "tab": [
     "jax"
    ]
   },
   "outputs": [],
   "source": [
    "@d2l.add_to_class(d2l.HyperParameters)  #@save\n",
    "def save_hyperparameters(self, ignore=[]):\n",
    "    \"\"\"Save function arguments into class attributes.\"\"\"\n",
    "    frame = inspect.currentframe().f_back\n",
    "    _, _, _, local_vars = inspect.getargvalues(frame)\n",
    "    self.hparams = {k:v for k, v in local_vars.items()\n",
    "                    if k not in set(ignore+['self']) and not k.startswith('_')}\n",
    "    for k, v in self.hparams.items():\n",
    "        setattr(self, k, v)"
   ]
  },
  {
   "cell_type": "markdown",
   "id": "62f657ad",
   "metadata": {
    "origin_pos": 8
   },
   "source": [
    "Progress bar.\n"
   ]
  },
  {
   "cell_type": "code",
   "execution_count": 3,
   "id": "5dfd5bc0",
   "metadata": {
    "attributes": {
     "classes": [],
     "id": "",
     "n": "22"
    },
    "execution": {
     "iopub.execute_input": "2023-08-18T19:40:48.729866Z",
     "iopub.status.busy": "2023-08-18T19:40:48.729312Z",
     "iopub.status.idle": "2023-08-18T19:40:48.741689Z",
     "shell.execute_reply": "2023-08-18T19:40:48.740798Z"
    },
    "origin_pos": 9,
    "tab": [
     "jax"
    ]
   },
   "outputs": [],
   "source": [
    "@d2l.add_to_class(d2l.ProgressBoard)  #@save\n",
    "def draw(self, x, y, label, every_n=1):\n",
    "    Point = collections.namedtuple('Point', ['x', 'y'])\n",
    "    if not hasattr(self, 'raw_points'):\n",
    "        self.raw_points = collections.OrderedDict()\n",
    "        self.data = collections.OrderedDict()\n",
    "    if label not in self.raw_points:\n",
    "        self.raw_points[label] = []\n",
    "        self.data[label] = []\n",
    "    points = self.raw_points[label]\n",
    "    line = self.data[label]\n",
    "    points.append(Point(x, y))\n",
    "    if len(points) != every_n:\n",
    "        return\n",
    "    mean = lambda x: sum(x) / len(x)\n",
    "    line.append(Point(mean([p.x for p in points]),\n",
    "                      mean([p.y for p in points])))\n",
    "    points.clear()\n",
    "    if not self.display:\n",
    "        return\n",
    "    d2l.use_svg_display()\n",
    "    if self.fig is None:\n",
    "        self.fig = d2l.plt.figure(figsize=self.figsize)\n",
    "    plt_lines, labels = [], []\n",
    "    for (k, v), ls, color in zip(self.data.items(), self.ls, self.colors):\n",
    "        plt_lines.append(d2l.plt.plot([p.x for p in v], [p.y for p in v],\n",
    "                                      linestyle=ls, color=color)[0])\n",
    "        labels.append(k)\n",
    "    axes = self.axes if self.axes else d2l.plt.gca()\n",
    "    if self.xlim: axes.set_xlim(self.xlim)\n",
    "    if self.ylim: axes.set_ylim(self.ylim)\n",
    "    if not self.xlabel: self.xlabel = self.x\n",
    "    axes.set_xlabel(self.xlabel)\n",
    "    axes.set_ylabel(self.ylabel)\n",
    "    axes.set_xscale(self.xscale)\n",
    "    axes.set_yscale(self.yscale)\n",
    "    axes.legend(plt_lines, labels)\n",
    "    display.display(self.fig)\n",
    "    display.clear_output(wait=True)"
   ]
  },
  {
   "cell_type": "markdown",
   "id": "e8dc29a4",
   "metadata": {
    "origin_pos": 10
   },
   "source": [
    "Add FrozenLake enviroment\n"
   ]
  },
  {
   "cell_type": "markdown",
   "id": "8e272887",
   "metadata": {
    "origin_pos": 12
   },
   "source": [
    "Create enviroment\n"
   ]
  },
  {
   "cell_type": "markdown",
   "id": "366d48fc",
   "metadata": {
    "origin_pos": 14
   },
   "source": [
    "Show value function\n"
   ]
  },
  {
   "cell_type": "markdown",
   "id": "3f21a1f9",
   "metadata": {
    "origin_pos": 16
   },
   "source": [
    "Show Q function\n"
   ]
  },
  {
   "cell_type": "markdown",
   "id": "3d51f911",
   "metadata": {
    "origin_pos": 18
   },
   "source": [
    "Trainer\n",
    "\n",
    "A bunch of functions that will be deprecated:\n"
   ]
  },
  {
   "cell_type": "code",
   "execution_count": 4,
   "id": "6be25cab",
   "metadata": {
    "execution": {
     "iopub.execute_input": "2023-08-18T19:40:48.745194Z",
     "iopub.status.busy": "2023-08-18T19:40:48.744646Z",
     "iopub.status.idle": "2023-08-18T19:40:48.750157Z",
     "shell.execute_reply": "2023-08-18T19:40:48.749348Z"
    },
    "origin_pos": 23,
    "tab": [
     "jax"
    ]
   },
   "outputs": [],
   "source": [
    "def show_images(imgs, num_rows, num_cols, titles=None, scale=1.5):  #@save\n",
    "    \"\"\"Plot a list of images.\"\"\"\n",
    "    figsize = (num_cols * scale, num_rows * scale)\n",
    "    _, axes = d2l.plt.subplots(num_rows, num_cols, figsize=figsize)\n",
    "    axes = axes.flatten()\n",
    "    for i, (ax, img) in enumerate(zip(axes, imgs)):\n",
    "        try:\n",
    "            img = np.asarray(img)\n",
    "        except:\n",
    "            pass\n",
    "        ax.imshow(img)\n",
    "        ax.axes.get_xaxis().set_visible(False)\n",
    "        ax.axes.get_yaxis().set_visible(False)\n",
    "        if titles:\n",
    "            ax.set_title(titles[i])\n",
    "    return axes"
   ]
  },
  {
   "cell_type": "code",
   "execution_count": 5,
   "id": "afbad45d",
   "metadata": {
    "execution": {
     "iopub.execute_input": "2023-08-18T19:40:48.753335Z",
     "iopub.status.busy": "2023-08-18T19:40:48.752803Z",
     "iopub.status.idle": "2023-08-18T19:40:48.760675Z",
     "shell.execute_reply": "2023-08-18T19:40:48.759873Z"
    },
    "origin_pos": 25,
    "tab": [
     "jax"
    ]
   },
   "outputs": [],
   "source": [
    "import hashlib\n",
    "import os\n",
    "import tarfile\n",
    "import zipfile\n",
    "import requests\n",
    "\n",
    "\n",
    "def download(url, folder='../data', sha1_hash=None):  #@save\n",
    "    \"\"\"Download a file to folder and return the local filepath.\"\"\"\n",
    "    if not url.startswith('http'):\n",
    "        # For back compatability\n",
    "        url, sha1_hash = DATA_HUB[url]\n",
    "    os.makedirs(folder, exist_ok=True)\n",
    "    fname = os.path.join(folder, url.split('/')[-1])\n",
    "    # Check if hit cache\n",
    "    if os.path.exists(fname) and sha1_hash:\n",
    "        sha1 = hashlib.sha1()\n",
    "        with open(fname, 'rb') as f:\n",
    "            while True:\n",
    "                data = f.read(1048576)\n",
    "                if not data:\n",
    "                    break\n",
    "                sha1.update(data)\n",
    "        if sha1.hexdigest() == sha1_hash:\n",
    "            return fname\n",
    "    # Download\n",
    "    print(f'Downloading {fname} from {url}...')\n",
    "    r = requests.get(url, stream=True, verify=True)\n",
    "    with open(fname, 'wb') as f:\n",
    "        f.write(r.content)\n",
    "    return fname\n",
    "\n",
    "def extract(filename, folder=None):  #@save\n",
    "    \"\"\"Extract a zip/tar file into folder.\"\"\"\n",
    "    base_dir = os.path.dirname(filename)\n",
    "    _, ext = os.path.splitext(filename)\n",
    "    assert ext in ('.zip', '.tar', '.gz'), 'Only support zip/tar files.'\n",
    "    if ext == '.zip':\n",
    "        fp = zipfile.ZipFile(filename, 'r')\n",
    "    else:\n",
    "        fp = tarfile.open(filename, 'r')\n",
    "    if folder is None:\n",
    "        folder = base_dir\n",
    "    fp.extractall(folder)"
   ]
  },
  {
   "cell_type": "markdown",
   "id": "86333392",
   "metadata": {
    "origin_pos": 31
   },
   "source": [
    "More for the attention chapter.\n"
   ]
  }
 ],
 "metadata": {
  "language_info": {
   "name": "python"
  },
  "required_libs": []
 },
 "nbformat": 4,
 "nbformat_minor": 5
}