{
 "cells": [
  {
   "cell_type": "markdown",
   "id": "a2dcece4",
   "metadata": {
    "origin_pos": 1
   },
   "source": [
    "# File I/O\n",
    "\n",
    "So far we have discussed how to process data and how\n",
    "to build, train, and test deep learning models.\n",
    "However, at some point we will hopefully be happy enough\n",
    "with the learned models that we will want\n",
    "to save the results for later use in various contexts\n",
    "(perhaps even to make predictions in deployment).\n",
    "Additionally, when running a long training process,\n",
    "the best practice is to periodically save intermediate results (checkpointing)\n",
    "to ensure that we do not lose several days' worth of computation\n",
    "if we trip over the power cord of our server.\n",
    "Thus it is time to learn how to load and store\n",
    "both individual weight vectors and entire models.\n",
    "This section addresses both issues.\n"
   ]
  },
  {
   "cell_type": "code",
   "execution_count": 1,
   "id": "522a156d",
   "metadata": {
    "execution": {
     "iopub.execute_input": "2023-08-18T19:48:03.323373Z",
     "iopub.status.busy": "2023-08-18T19:48:03.322764Z",
     "iopub.status.idle": "2023-08-18T19:48:10.787832Z",
     "shell.execute_reply": "2023-08-18T19:48:10.786862Z"
    },
    "origin_pos": 5,
    "tab": [
     "jax"
    ]
   },
   "outputs": [
    {
     "name": "stdout",
     "output_type": "stream",
     "text": [
      "WARNING:absl:GlobalAsyncCheckpointManager is not imported correctly. Checkpointing of GlobalDeviceArrays will not be available.To use the feature, install tensorstore.\n"
     ]
    },
    {
     "name": "stdout",
     "output_type": "stream",
     "text": [
      "WARNING:jax._src.xla_bridge:No GPU/TPU found, falling back to CPU. (Set TF_CPP_MIN_LOG_LEVEL=0 and rerun for more info.)\n"
     ]
    }
   ],
   "source": [
    "import flax\n",
    "import jax\n",
    "from flax import linen as nn\n",
    "from flax.training import checkpoints\n",
    "from jax import numpy as jnp\n",
    "from d2l import jax as d2l"
   ]
  },
  {
   "cell_type": "markdown",
   "id": "8b0d1221",
   "metadata": {
    "origin_pos": 6
   },
   "source": [
    "## (**Loading and Saving Tensors**)\n",
    "\n",
    "For individual tensors, we can directly\n",
    "invoke the `load` and `save` functions\n",
    "to read and write them respectively.\n",
    "Both functions require that we supply a name,\n",
    "and `save` requires as input the variable to be saved.\n"
   ]
  },
  {
   "cell_type": "code",
   "execution_count": 2,
   "id": "1218b8ef",
   "metadata": {
    "execution": {
     "iopub.execute_input": "2023-08-18T19:48:10.791720Z",
     "iopub.status.busy": "2023-08-18T19:48:10.790989Z",
     "iopub.status.idle": "2023-08-18T19:48:10.807317Z",
     "shell.execute_reply": "2023-08-18T19:48:10.806434Z"
    },
    "origin_pos": 10,
    "tab": [
     "jax"
    ]
   },
   "outputs": [],
   "source": [
    "x = jnp.arange(4)\n",
    "jnp.save('x-file.npy', x)"
   ]
  },
  {
   "cell_type": "markdown",
   "id": "a98725d9",
   "metadata": {
    "origin_pos": 11
   },
   "source": [
    "We can now read the data from the stored file back into memory.\n"
   ]
  },
  {
   "cell_type": "code",
   "execution_count": 3,
   "id": "94b5edbd",
   "metadata": {
    "execution": {
     "iopub.execute_input": "2023-08-18T19:48:10.810620Z",
     "iopub.status.busy": "2023-08-18T19:48:10.810095Z",
     "iopub.status.idle": "2023-08-18T19:48:10.818035Z",
     "shell.execute_reply": "2023-08-18T19:48:10.817209Z"
    },
    "origin_pos": 15,
    "tab": [
     "jax"
    ]
   },
   "outputs": [
    {
     "data": {
      "text/plain": [
       "Array([0, 1, 2, 3], dtype=int32)"
      ]
     },
     "execution_count": 3,
     "metadata": {},
     "output_type": "execute_result"
    }
   ],
   "source": [
    "x2 = jnp.load('x-file.npy', allow_pickle=True)\n",
    "x2"
   ]
  },
  {
   "cell_type": "markdown",
   "id": "612e7f6b",
   "metadata": {
    "origin_pos": 16
   },
   "source": [
    "We can [**store a list of tensors and read them back into memory.**]\n"
   ]
  },
  {
   "cell_type": "code",
   "execution_count": 4,
   "id": "85a67ef8",
   "metadata": {
    "execution": {
     "iopub.execute_input": "2023-08-18T19:48:10.821203Z",
     "iopub.status.busy": "2023-08-18T19:48:10.820680Z",
     "iopub.status.idle": "2023-08-18T19:48:10.855140Z",
     "shell.execute_reply": "2023-08-18T19:48:10.854334Z"
    },
    "origin_pos": 20,
    "tab": [
     "jax"
    ]
   },
   "outputs": [
    {
     "data": {
      "text/plain": [
       "(Array([0., 1., 2., 3.], dtype=float32),\n",
       " Array([0., 0., 0., 0.], dtype=float32))"
      ]
     },
     "execution_count": 4,
     "metadata": {},
     "output_type": "execute_result"
    }
   ],
   "source": [
    "y = jnp.zeros(4)\n",
    "jnp.save('xy-files.npy', [x, y])\n",
    "x2, y2 = jnp.load('xy-files.npy', allow_pickle=True)\n",
    "(x2, y2)"
   ]
  },
  {
   "cell_type": "markdown",
   "id": "9a8bf072",
   "metadata": {
    "origin_pos": 21
   },
   "source": [
    "We can even [**write and read a dictionary that maps\n",
    "from strings to tensors.**]\n",
    "This is convenient when we want\n",
    "to read or write all the weights in a model.\n"
   ]
  },
  {
   "cell_type": "code",
   "execution_count": 5,
   "id": "e0401859",
   "metadata": {
    "execution": {
     "iopub.execute_input": "2023-08-18T19:48:10.858615Z",
     "iopub.status.busy": "2023-08-18T19:48:10.857979Z",
     "iopub.status.idle": "2023-08-18T19:48:10.865892Z",
     "shell.execute_reply": "2023-08-18T19:48:10.865118Z"
    },
    "origin_pos": 25,
    "tab": [
     "jax"
    ]
   },
   "outputs": [
    {
     "data": {
      "text/plain": [
       "array({'x': Array([0, 1, 2, 3], dtype=int32), 'y': Array([0., 0., 0., 0.], dtype=float32)},\n",
       "      dtype=object)"
      ]
     },
     "execution_count": 5,
     "metadata": {},
     "output_type": "execute_result"
    }
   ],
   "source": [
    "mydict = {'x': x, 'y': y}\n",
    "jnp.save('mydict.npy', mydict)\n",
    "mydict2 = jnp.load('mydict.npy', allow_pickle=True)\n",
    "mydict2"
   ]
  },
  {
   "cell_type": "markdown",
   "id": "55ceb692",
   "metadata": {
    "origin_pos": 26
   },
   "source": [
    "## [**Loading and Saving Model Parameters**]\n",
    "\n",
    "Saving individual weight vectors (or other tensors) is useful,\n",
    "but it gets very tedious if we want to save\n",
    "(and later load) an entire model.\n",
    "After all, we might have hundreds of\n",
    "parameter groups sprinkled throughout.\n",
    "For this reason the deep learning framework provides built-in functionalities\n",
    "to load and save entire networks.\n",
    "An important detail to note is that this\n",
    "saves model *parameters* and not the entire model.\n",
    "For example, if we have a 3-layer MLP,\n",
    "we need to specify the architecture separately.\n",
    "The reason for this is that the models themselves can contain arbitrary code,\n",
    "hence they cannot be serialized as naturally.\n",
    "Thus, in order to reinstate a model, we need\n",
    "to generate the architecture in code\n",
    "and then load the parameters from disk.\n",
    "(**Let's start with our familiar MLP.**)\n"
   ]
  },
  {
   "cell_type": "code",
   "execution_count": 6,
   "id": "7c45b24b",
   "metadata": {
    "execution": {
     "iopub.execute_input": "2023-08-18T19:48:10.869124Z",
     "iopub.status.busy": "2023-08-18T19:48:10.868529Z",
     "iopub.status.idle": "2023-08-18T19:48:11.833780Z",
     "shell.execute_reply": "2023-08-18T19:48:11.831998Z"
    },
    "origin_pos": 30,
    "tab": [
     "jax"
    ]
   },
   "outputs": [],
   "source": [
    "class MLP(nn.Module):\n",
    "    def setup(self):\n",
    "        self.hidden = nn.Dense(256)\n",
    "        self.output = nn.Dense(10)\n",
    "\n",
    "    def __call__(self, x):\n",
    "        return self.output(nn.relu(self.hidden(x)))\n",
    "\n",
    "net = MLP()\n",
    "X = jax.random.normal(jax.random.PRNGKey(d2l.get_seed()), (2, 20))\n",
    "Y, params = net.init_with_output(jax.random.PRNGKey(d2l.get_seed()), X)"
   ]
  },
  {
   "cell_type": "markdown",
   "id": "df28ee59",
   "metadata": {
    "origin_pos": 31
   },
   "source": [
    "Next, we [**store the parameters of the model as a file**] with the name \"mlp.params\".\n"
   ]
  },
  {
   "cell_type": "code",
   "execution_count": 7,
   "id": "e0e1b6c7",
   "metadata": {
    "execution": {
     "iopub.execute_input": "2023-08-18T19:48:11.842689Z",
     "iopub.status.busy": "2023-08-18T19:48:11.839686Z",
     "iopub.status.idle": "2023-08-18T19:48:11.856613Z",
     "shell.execute_reply": "2023-08-18T19:48:11.855332Z"
    },
    "origin_pos": 35,
    "tab": [
     "jax"
    ]
   },
   "outputs": [
    {
     "data": {
      "text/plain": [
       "'ckpt_dir/checkpoint_1'"
      ]
     },
     "execution_count": 7,
     "metadata": {},
     "output_type": "execute_result"
    }
   ],
   "source": [
    "checkpoints.save_checkpoint('ckpt_dir', params, step=1, overwrite=True)"
   ]
  },
  {
   "cell_type": "markdown",
   "id": "2959598b",
   "metadata": {
    "origin_pos": 36
   },
   "source": [
    "To recover the model, we instantiate a clone\n",
    "of the original MLP model.\n",
    "Instead of randomly initializing the model parameters,\n",
    "we [**read the parameters stored in the file directly**].\n"
   ]
  },
  {
   "cell_type": "code",
   "execution_count": 8,
   "id": "2b7b7eb1",
   "metadata": {
    "execution": {
     "iopub.execute_input": "2023-08-18T19:48:11.865697Z",
     "iopub.status.busy": "2023-08-18T19:48:11.862879Z",
     "iopub.status.idle": "2023-08-18T19:48:11.876811Z",
     "shell.execute_reply": "2023-08-18T19:48:11.875540Z"
    },
    "origin_pos": 40,
    "tab": [
     "jax"
    ]
   },
   "outputs": [],
   "source": [
    "clone = MLP()\n",
    "cloned_params = flax.core.freeze(checkpoints.restore_checkpoint('ckpt_dir',\n",
    "                                                                target=None))"
   ]
  },
  {
   "cell_type": "markdown",
   "id": "95140bbe",
   "metadata": {
    "origin_pos": 41
   },
   "source": [
    "Since both instances have the same model parameters,\n",
    "the computational result of the same input `X` should be the same.\n",
    "Let's verify this.\n"
   ]
  },
  {
   "cell_type": "code",
   "execution_count": 9,
   "id": "63dbc87a",
   "metadata": {
    "execution": {
     "iopub.execute_input": "2023-08-18T19:48:11.884166Z",
     "iopub.status.busy": "2023-08-18T19:48:11.883042Z",
     "iopub.status.idle": "2023-08-18T19:48:11.931065Z",
     "shell.execute_reply": "2023-08-18T19:48:11.930226Z"
    },
    "origin_pos": 43,
    "tab": [
     "jax"
    ]
   },
   "outputs": [
    {
     "data": {
      "text/plain": [
       "Array([[ True,  True,  True,  True,  True,  True,  True,  True,  True,\n",
       "         True],\n",
       "       [ True,  True,  True,  True,  True,  True,  True,  True,  True,\n",
       "         True]], dtype=bool)"
      ]
     },
     "execution_count": 9,
     "metadata": {},
     "output_type": "execute_result"
    }
   ],
   "source": [
    "Y_clone = clone.apply(cloned_params, X)\n",
    "Y_clone == Y"
   ]
  },
  {
   "cell_type": "markdown",
   "id": "4f7cb3cd",
   "metadata": {
    "origin_pos": 44
   },
   "source": [
    "## Summary\n",
    "\n",
    "The `save` and `load` functions can be used to perform file I/O for tensor objects.\n",
    "We can save and load the entire sets of parameters for a network via a parameter dictionary.\n",
    "Saving the architecture has to be done in code rather than in parameters.\n",
    "\n",
    "## Exercises\n",
    "\n",
    "1. Even if there is no need to deploy trained models to a different device, what are the practical benefits of storing model parameters?\n",
    "1. Assume that we want to reuse only parts of a network to be incorporated into a network having a different architecture. How would you go about using, say the first two layers from a previous network in a new network?\n",
    "1. How would you go about saving the network architecture and parameters? What restrictions would you impose on the architecture?\n"
   ]
  },
  {
   "cell_type": "markdown",
   "id": "99cfd7d6",
   "metadata": {
    "origin_pos": 48,
    "tab": [
     "jax"
    ]
   },
   "source": [
    "[Discussions](https://discuss.d2l.ai/t/17994)\n"
   ]
  }
 ],
 "metadata": {
  "language_info": {
   "name": "python"
  },
  "required_libs": []
 },
 "nbformat": 4,
 "nbformat_minor": 5
}