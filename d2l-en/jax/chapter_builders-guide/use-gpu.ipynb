{
 "cells": [
  {
   "cell_type": "markdown",
   "id": "eaa3bd00",
   "metadata": {
    "origin_pos": 1
   },
   "source": [
    "# GPUs\n",
    ":label:`sec_use_gpu`\n",
    "\n",
    "In :numref:`tab_intro_decade`, we illustrated the rapid growth\n",
    "of computation over the past two decades.\n",
    "In a nutshell, GPU performance has increased\n",
    "by a factor of 1000 every decade since 2000.\n",
    "This offers great opportunities but it also suggests\n",
    "that there was significant demand for such performance.\n",
    "\n",
    "\n",
    "In this section, we begin to discuss how to harness\n",
    "this computational performance for your research.\n",
    "First by using a single GPU and at a later point,\n",
    "how to use multiple GPUs and multiple servers (with multiple GPUs).\n",
    "\n",
    "Specifically, we will discuss how\n",
    "to use a single NVIDIA GPU for calculations.\n",
    "First, make sure you have at least one NVIDIA GPU installed.\n",
    "Then, download the [NVIDIA driver and CUDA](https://developer.nvidia.com/cuda-downloads)\n",
    "and follow the prompts to set the appropriate path.\n",
    "Once these preparations are complete,\n",
    "the `nvidia-smi` command can be used\n",
    "to (**view the graphics card information**).\n"
   ]
  },
  {
   "cell_type": "markdown",
   "id": "4d3923dd",
   "metadata": {
    "origin_pos": 4
   },
   "source": [
    "To run the programs in this section,\n",
    "you need at least two GPUs.\n",
    "Note that this might be extravagant for most desktop computers\n",
    "but it is easily available in the cloud, e.g.,\n",
    "by using the AWS EC2 multi-GPU instances.\n",
    "Almost all other sections do *not* require multiple GPUs, but here we simply wish to illustrate data flow between different devices.\n"
   ]
  },
  {
   "cell_type": "code",
   "execution_count": 1,
   "id": "77df419c",
   "metadata": {
    "execution": {
     "iopub.execute_input": "2023-08-18T19:20:49.428714Z",
     "iopub.status.busy": "2023-08-18T19:20:49.428221Z",
     "iopub.status.idle": "2023-08-18T19:21:00.750425Z",
     "shell.execute_reply": "2023-08-18T19:21:00.749226Z"
    },
    "origin_pos": 8,
    "tab": [
     "jax"
    ]
   },
   "outputs": [],
   "source": [
    "import jax\n",
    "from flax import linen as nn\n",
    "from jax import numpy as jnp\n",
    "from d2l import jax as d2l"
   ]
  },
  {
   "cell_type": "markdown",
   "id": "2d31e075",
   "metadata": {
    "origin_pos": 9
   },
   "source": [
    "## [**Computing Devices**]\n",
    "\n",
    "We can specify devices, such as CPUs and GPUs,\n",
    "for storage and calculation.\n",
    "By default, tensors are created in the main memory\n",
    "and then the CPU is used for calculations.\n"
   ]
  },
  {
   "cell_type": "code",
   "execution_count": 2,
   "id": "c2b86c09",
   "metadata": {
    "execution": {
     "iopub.execute_input": "2023-08-18T19:21:00.754863Z",
     "iopub.status.busy": "2023-08-18T19:21:00.753987Z",
     "iopub.status.idle": "2023-08-18T19:21:00.761642Z",
     "shell.execute_reply": "2023-08-18T19:21:00.760778Z"
    },
    "origin_pos": 13,
    "tab": [
     "jax"
    ]
   },
   "outputs": [
    {
     "data": {
      "text/plain": [
       "(CpuDevice(id=0), gpu(id=0), gpu(id=1))"
      ]
     },
     "execution_count": 2,
     "metadata": {},
     "output_type": "execute_result"
    }
   ],
   "source": [
    "def cpu():  #@save\n",
    "    \"\"\"Get the CPU device.\"\"\"\n",
    "    return jax.devices('cpu')[0]\n",
    "\n",
    "def gpu(i=0):  #@save\n",
    "    \"\"\"Get a GPU device.\"\"\"\n",
    "    return jax.devices('gpu')[i]\n",
    "\n",
    "cpu(), gpu(), gpu(1)"
   ]
  },
  {
   "cell_type": "markdown",
   "id": "2090254b",
   "metadata": {
    "origin_pos": 14
   },
   "source": [
    "We can (**query the number of available GPUs.**)\n"
   ]
  },
  {
   "cell_type": "code",
   "execution_count": 3,
   "id": "657c55ac",
   "metadata": {
    "execution": {
     "iopub.execute_input": "2023-08-18T19:21:00.765351Z",
     "iopub.status.busy": "2023-08-18T19:21:00.764710Z",
     "iopub.status.idle": "2023-08-18T19:21:00.771391Z",
     "shell.execute_reply": "2023-08-18T19:21:00.770589Z"
    },
    "origin_pos": 16,
    "tab": [
     "jax"
    ]
   },
   "outputs": [
    {
     "data": {
      "text/plain": [
       "2"
      ]
     },
     "execution_count": 3,
     "metadata": {},
     "output_type": "execute_result"
    }
   ],
   "source": [
    "def num_gpus():  #@save\n",
    "    \"\"\"Get the number of available GPUs.\"\"\"\n",
    "    try:\n",
    "        return jax.device_count('gpu')\n",
    "    except:\n",
    "        return 0  # No GPU backend found\n",
    "\n",
    "num_gpus()"
   ]
  },
  {
   "cell_type": "markdown",
   "id": "2a85ad8f",
   "metadata": {
    "origin_pos": 17
   },
   "source": [
    "Now we [**define two convenient functions that allow us\n",
    "to run code even if the requested GPUs do not exist.**]\n"
   ]
  },
  {
   "cell_type": "code",
   "execution_count": 4,
   "id": "c6a4e02b",
   "metadata": {
    "execution": {
     "iopub.execute_input": "2023-08-18T19:21:00.774836Z",
     "iopub.status.busy": "2023-08-18T19:21:00.774193Z",
     "iopub.status.idle": "2023-08-18T19:21:00.780657Z",
     "shell.execute_reply": "2023-08-18T19:21:00.779834Z"
    },
    "origin_pos": 18,
    "tab": [
     "jax"
    ]
   },
   "outputs": [
    {
     "data": {
      "text/plain": [
       "(gpu(id=0), CpuDevice(id=0), [gpu(id=0), gpu(id=1)])"
      ]
     },
     "execution_count": 4,
     "metadata": {},
     "output_type": "execute_result"
    }
   ],
   "source": [
    "def try_gpu(i=0):  #@save\n",
    "    \"\"\"Return gpu(i) if exists, otherwise return cpu().\"\"\"\n",
    "    if num_gpus() >= i + 1:\n",
    "        return gpu(i)\n",
    "    return cpu()\n",
    "\n",
    "def try_all_gpus():  #@save\n",
    "    \"\"\"Return all available GPUs, or [cpu(),] if no GPU exists.\"\"\"\n",
    "    return [gpu(i) for i in range(num_gpus())]\n",
    "\n",
    "try_gpu(), try_gpu(10), try_all_gpus()"
   ]
  },
  {
   "cell_type": "markdown",
   "id": "ad62dca2",
   "metadata": {
    "origin_pos": 19
   },
   "source": [
    "## Tensors and GPUs\n"
   ]
  },
  {
   "cell_type": "markdown",
   "id": "debb5a24",
   "metadata": {
    "origin_pos": 22,
    "tab": [
     "jax"
    ]
   },
   "source": [
    "By default, tensors are created on the GPU/TPU if they are available,\n",
    "else CPU is used if not available.\n",
    "We can [**query the device where the tensor is located.**]\n"
   ]
  },
  {
   "cell_type": "code",
   "execution_count": 5,
   "id": "c8e19f73",
   "metadata": {
    "execution": {
     "iopub.execute_input": "2023-08-18T19:21:00.784114Z",
     "iopub.status.busy": "2023-08-18T19:21:00.783499Z",
     "iopub.status.idle": "2023-08-18T19:21:00.789863Z",
     "shell.execute_reply": "2023-08-18T19:21:00.789062Z"
    },
    "origin_pos": 26,
    "tab": [
     "jax"
    ]
   },
   "outputs": [
    {
     "data": {
      "text/plain": [
       "gpu(id=0)"
      ]
     },
     "execution_count": 5,
     "metadata": {},
     "output_type": "execute_result"
    }
   ],
   "source": [
    "x = jnp.array([1, 2, 3])\n",
    "x.device()"
   ]
  },
  {
   "cell_type": "markdown",
   "id": "a28d9e23",
   "metadata": {
    "origin_pos": 27
   },
   "source": [
    "It is important to note that whenever we want\n",
    "to operate on multiple terms,\n",
    "they need to be on the same device.\n",
    "For instance, if we sum two tensors,\n",
    "we need to make sure that both arguments\n",
    "live on the same device---otherwise the framework\n",
    "would not know where to store the result\n",
    "or even how to decide where to perform the computation.\n",
    "\n",
    "### Storage on the GPU\n",
    "\n",
    "There are several ways to [**store a tensor on the GPU.**]\n",
    "For example, we can specify a storage device when creating a tensor.\n",
    "Next, we create the tensor variable `X` on the first `gpu`.\n",
    "The tensor created on a GPU only consumes the memory of this GPU.\n",
    "We can use the `nvidia-smi` command to view GPU memory usage.\n",
    "In general, we need to make sure that we do not create data that exceeds the GPU memory limit.\n"
   ]
  },
  {
   "cell_type": "code",
   "execution_count": 6,
   "id": "f911de18",
   "metadata": {
    "execution": {
     "iopub.execute_input": "2023-08-18T19:21:00.794024Z",
     "iopub.status.busy": "2023-08-18T19:21:00.793517Z",
     "iopub.status.idle": "2023-08-18T19:21:00.871173Z",
     "shell.execute_reply": "2023-08-18T19:21:00.870290Z"
    },
    "origin_pos": 31,
    "tab": [
     "jax"
    ]
   },
   "outputs": [
    {
     "data": {
      "text/plain": [
       "Array([[1., 1., 1.],\n",
       "       [1., 1., 1.]], dtype=float32)"
      ]
     },
     "execution_count": 6,
     "metadata": {},
     "output_type": "execute_result"
    }
   ],
   "source": [
    "# By default JAX puts arrays to GPUs or TPUs if available\n",
    "X = jax.device_put(jnp.ones((2, 3)), try_gpu())\n",
    "X"
   ]
  },
  {
   "cell_type": "markdown",
   "id": "d20c7b95",
   "metadata": {
    "origin_pos": 32
   },
   "source": [
    "Assuming that you have at least two GPUs, the following code will (**create a random tensor, `Y`, on the second GPU.**)\n"
   ]
  },
  {
   "cell_type": "code",
   "execution_count": 7,
   "id": "7d206927",
   "metadata": {
    "execution": {
     "iopub.execute_input": "2023-08-18T19:21:00.875768Z",
     "iopub.status.busy": "2023-08-18T19:21:00.875187Z",
     "iopub.status.idle": "2023-08-18T19:21:01.233233Z",
     "shell.execute_reply": "2023-08-18T19:21:01.232341Z"
    },
    "origin_pos": 36,
    "tab": [
     "jax"
    ]
   },
   "outputs": [
    {
     "data": {
      "text/plain": [
       "Array([[0.57450044, 0.09968603, 0.7419659 ],\n",
       "       [0.8941783 , 0.59656656, 0.45325184]], dtype=float32)"
      ]
     },
     "execution_count": 7,
     "metadata": {},
     "output_type": "execute_result"
    }
   ],
   "source": [
    "Y = jax.device_put(jax.random.uniform(jax.random.PRNGKey(0), (2, 3)),\n",
    "                   try_gpu(1))\n",
    "Y"
   ]
  },
  {
   "cell_type": "markdown",
   "id": "bb9f14c9",
   "metadata": {
    "origin_pos": 37
   },
   "source": [
    "### Copying\n",
    "\n",
    "[**If we want to compute `X + Y`,\n",
    "we need to decide where to perform this operation.**]\n",
    "For instance, as shown in :numref:`fig_copyto`,\n",
    "we can transfer `X` to the second GPU\n",
    "and perform the operation there.\n",
    "*Do not* simply add `X` and `Y`,\n",
    "since this will result in an exception.\n",
    "The runtime engine would not know what to do:\n",
    "it cannot find data on the same device and it fails.\n",
    "Since `Y` lives on the second GPU,\n",
    "we need to move `X` there before we can add the two.\n",
    "\n",
    "![Copy data to perform an operation on the same device.](../img/copyto.svg)\n",
    ":label:`fig_copyto`\n"
   ]
  },
  {
   "cell_type": "code",
   "execution_count": 8,
   "id": "72cffd2e",
   "metadata": {
    "execution": {
     "iopub.execute_input": "2023-08-18T19:21:01.236855Z",
     "iopub.status.busy": "2023-08-18T19:21:01.236273Z",
     "iopub.status.idle": "2023-08-18T19:21:01.242212Z",
     "shell.execute_reply": "2023-08-18T19:21:01.241334Z"
    },
    "origin_pos": 41,
    "tab": [
     "jax"
    ]
   },
   "outputs": [
    {
     "name": "stdout",
     "output_type": "stream",
     "text": [
      "[[1. 1. 1.]\n",
      " [1. 1. 1.]]\n",
      "[[1. 1. 1.]\n",
      " [1. 1. 1.]]\n"
     ]
    }
   ],
   "source": [
    "Z = jax.device_put(X, try_gpu(1))\n",
    "print(X)\n",
    "print(Z)"
   ]
  },
  {
   "cell_type": "markdown",
   "id": "0e868fa0",
   "metadata": {
    "origin_pos": 42
   },
   "source": [
    "Now that [**the data (both `Z` and `Y`) are on the same GPU), we can add them up.**]\n"
   ]
  },
  {
   "cell_type": "code",
   "execution_count": 9,
   "id": "54adc8d7",
   "metadata": {
    "execution": {
     "iopub.execute_input": "2023-08-18T19:21:01.245793Z",
     "iopub.status.busy": "2023-08-18T19:21:01.245080Z",
     "iopub.status.idle": "2023-08-18T19:21:01.363449Z",
     "shell.execute_reply": "2023-08-18T19:21:01.361880Z"
    },
    "origin_pos": 43,
    "tab": [
     "jax"
    ]
   },
   "outputs": [
    {
     "data": {
      "text/plain": [
       "Array([[1.5745004, 1.099686 , 1.7419659],\n",
       "       [1.8941783, 1.5965666, 1.4532518]], dtype=float32)"
      ]
     },
     "execution_count": 9,
     "metadata": {},
     "output_type": "execute_result"
    }
   ],
   "source": [
    "Y + Z"
   ]
  },
  {
   "cell_type": "markdown",
   "id": "bfd05286",
   "metadata": {
    "origin_pos": 47,
    "tab": [
     "jax"
    ]
   },
   "source": [
    "Imagine that your variable `Z` already lives on your second GPU.\n",
    "What happens if we still call `Z2 = Z` under the same device scope?\n",
    "It will return `Z` instead of making a copy and allocating new memory.\n"
   ]
  },
  {
   "cell_type": "code",
   "execution_count": 10,
   "id": "d48982e3",
   "metadata": {
    "execution": {
     "iopub.execute_input": "2023-08-18T19:21:01.370894Z",
     "iopub.status.busy": "2023-08-18T19:21:01.370353Z",
     "iopub.status.idle": "2023-08-18T19:21:01.384079Z",
     "shell.execute_reply": "2023-08-18T19:21:01.383218Z"
    },
    "origin_pos": 51,
    "tab": [
     "jax"
    ]
   },
   "outputs": [
    {
     "data": {
      "text/plain": [
       "False"
      ]
     },
     "execution_count": 10,
     "metadata": {},
     "output_type": "execute_result"
    }
   ],
   "source": [
    "Z2 = jax.device_put(Z, try_gpu(1))\n",
    "Z2 is Z"
   ]
  },
  {
   "cell_type": "markdown",
   "id": "1f34545b",
   "metadata": {
    "origin_pos": 52
   },
   "source": [
    "### Side Notes\n",
    "\n",
    "People use GPUs to do machine learning\n",
    "because they expect them to be fast.\n",
    "But transferring variables between devices is slow: much slower than computation.\n",
    "So we want you to be 100% certain\n",
    "that you want to do something slow before we let you do it.\n",
    "If the deep learning framework just did the copy automatically\n",
    "without crashing then you might not realize\n",
    "that you had written some slow code.\n",
    "\n",
    "Transferring data is not only slow, it also makes parallelization a lot more difficult,\n",
    "since we have to wait for data to be sent (or rather to be received)\n",
    "before we can proceed with more operations.\n",
    "This is why copy operations should be taken with great care.\n",
    "As a rule of thumb, many small operations\n",
    "are much worse than one big operation.\n",
    "Moreover, several operations at a time\n",
    "are much better than many single operations interspersed in the code\n",
    "unless you know what you are doing.\n",
    "This is the case since such operations can block if one device\n",
    "has to wait for the other before it can do something else.\n",
    "It is a bit like ordering your coffee in a queue\n",
    "rather than pre-ordering it by phone\n",
    "and finding out that it is ready when you are.\n",
    "\n",
    "Last, when we print tensors or convert tensors to the NumPy format,\n",
    "if the data is not in the main memory,\n",
    "the framework will copy it to the main memory first,\n",
    "resulting in additional transmission overhead.\n",
    "Even worse, it is now subject to the dreaded global interpreter lock\n",
    "that makes everything wait for Python to complete.\n",
    "\n",
    "\n",
    "## [**Neural Networks and GPUs**]\n",
    "\n",
    "Similarly, a neural network model can specify devices.\n",
    "The following code puts the model parameters on the GPU.\n"
   ]
  },
  {
   "cell_type": "code",
   "execution_count": 11,
   "id": "9c29d965",
   "metadata": {
    "execution": {
     "iopub.execute_input": "2023-08-18T19:21:01.387722Z",
     "iopub.status.busy": "2023-08-18T19:21:01.387116Z",
     "iopub.status.idle": "2023-08-18T19:21:02.454465Z",
     "shell.execute_reply": "2023-08-18T19:21:02.453500Z"
    },
    "origin_pos": 56,
    "tab": [
     "jax"
    ]
   },
   "outputs": [],
   "source": [
    "net = nn.Sequential([nn.Dense(1)])\n",
    "\n",
    "key1, key2 = jax.random.split(jax.random.PRNGKey(0))\n",
    "x = jax.random.normal(key1, (10,))  # Dummy input\n",
    "params = net.init(key2, x)  # Initialization call"
   ]
  },
  {
   "cell_type": "markdown",
   "id": "cf443874",
   "metadata": {
    "origin_pos": 57
   },
   "source": [
    "We will see many more examples of\n",
    "how to run models on GPUs in the following chapters,\n",
    "simply because the models will become somewhat more computationally intensive.\n",
    "\n",
    "For example, when the input is a tensor on the GPU, the model will calculate the result on the same GPU.\n"
   ]
  },
  {
   "cell_type": "code",
   "execution_count": 12,
   "id": "3999c067",
   "metadata": {
    "execution": {
     "iopub.execute_input": "2023-08-18T19:21:02.458521Z",
     "iopub.status.busy": "2023-08-18T19:21:02.457927Z",
     "iopub.status.idle": "2023-08-18T19:21:02.469982Z",
     "shell.execute_reply": "2023-08-18T19:21:02.469142Z"
    },
    "origin_pos": 59,
    "tab": [
     "jax"
    ]
   },
   "outputs": [
    {
     "data": {
      "text/plain": [
       "Array([-1.2849933], dtype=float32)"
      ]
     },
     "execution_count": 12,
     "metadata": {},
     "output_type": "execute_result"
    }
   ],
   "source": [
    "net.apply(params, x)"
   ]
  },
  {
   "cell_type": "markdown",
   "id": "94f1bb0c",
   "metadata": {
    "origin_pos": 60
   },
   "source": [
    "Let's (**confirm that the model parameters are stored on the same GPU.**)\n"
   ]
  },
  {
   "cell_type": "code",
   "execution_count": 13,
   "id": "4de240cd",
   "metadata": {
    "execution": {
     "iopub.execute_input": "2023-08-18T19:21:02.474531Z",
     "iopub.status.busy": "2023-08-18T19:21:02.473853Z",
     "iopub.status.idle": "2023-08-18T19:21:02.478675Z",
     "shell.execute_reply": "2023-08-18T19:21:02.477827Z"
    },
    "origin_pos": 64,
    "tab": [
     "jax"
    ]
   },
   "outputs": [
    {
     "name": "stdout",
     "output_type": "stream",
     "text": [
      "FrozenDict({\n",
      "    params: {\n",
      "        layers_0: {\n",
      "            bias: gpu(id=0),\n",
      "            kernel: gpu(id=0),\n",
      "        },\n",
      "    },\n",
      "})\n"
     ]
    }
   ],
   "source": [
    "print(jax.tree_util.tree_map(lambda x: x.device(), params))"
   ]
  },
  {
   "cell_type": "markdown",
   "id": "60d342e8",
   "metadata": {
    "origin_pos": 65
   },
   "source": [
    "Let the trainer support GPU.\n"
   ]
  },
  {
   "cell_type": "code",
   "execution_count": 14,
   "id": "3c14fe36",
   "metadata": {
    "execution": {
     "iopub.execute_input": "2023-08-18T19:21:02.481898Z",
     "iopub.status.busy": "2023-08-18T19:21:02.481353Z",
     "iopub.status.idle": "2023-08-18T19:21:02.486705Z",
     "shell.execute_reply": "2023-08-18T19:21:02.485892Z"
    },
    "origin_pos": 68,
    "tab": [
     "jax"
    ]
   },
   "outputs": [],
   "source": [
    "@d2l.add_to_class(d2l.Trainer)  #@save\n",
    "def __init__(self, max_epochs, num_gpus=0, gradient_clip_val=0):\n",
    "    self.save_hyperparameters()\n",
    "    self.gpus = [d2l.gpu(i) for i in range(min(num_gpus, d2l.num_gpus()))]\n",
    "\n",
    "@d2l.add_to_class(d2l.Trainer)  #@save\n",
    "def prepare_batch(self, batch):\n",
    "    if self.gpus:\n",
    "        batch = [jax.device_put(a, self.gpus[0]) for a in batch]\n",
    "    return batch"
   ]
  },
  {
   "cell_type": "markdown",
   "id": "5de4e0b2",
   "metadata": {
    "origin_pos": 69
   },
   "source": [
    "In short, as long as all data and parameters are on the same device, we can learn models efficiently. In the following chapters we will see several such examples.\n",
    "\n",
    "## Summary\n",
    "\n",
    "We can specify devices for storage and calculation, such as the CPU or GPU.\n",
    "  By default, data is created in the main memory\n",
    "  and then uses the CPU for calculations.\n",
    "The deep learning framework requires all input data for calculation\n",
    "  to be on the same device,\n",
    "  be it CPU or the same GPU.\n",
    "You can lose significant performance by moving data without care.\n",
    "  A typical mistake is as follows: computing the loss\n",
    "  for every minibatch on the GPU and reporting it back\n",
    "  to the user on the command line (or logging it in a NumPy `ndarray`)\n",
    "  will trigger a global interpreter lock which stalls all GPUs.\n",
    "  It is much better to allocate memory\n",
    "  for logging inside the GPU and only move larger logs.\n",
    "\n",
    "## Exercises\n",
    "\n",
    "1. Try a larger computation task, such as the multiplication of large matrices,\n",
    "   and see the difference in speed between the CPU and GPU.\n",
    "   What about a task with a small number of calculations?\n",
    "1. How should we read and write model parameters on the GPU?\n",
    "1. Measure the time it takes to compute 1000\n",
    "   matrix--matrix multiplications of $100 \\times 100$ matrices\n",
    "   and log the Frobenius norm of the output matrix one result at a time. Compare it with keeping a log on the GPU and transferring only the final result.\n",
    "1. Measure how much time it takes to perform two matrix--matrix multiplications\n",
    "   on two GPUs at the same time. Compare it with computing in in sequence\n",
    "   on one GPU. Hint: you should see almost linear scaling.\n"
   ]
  },
  {
   "cell_type": "markdown",
   "id": "afc84867",
   "metadata": {
    "origin_pos": 73,
    "tab": [
     "jax"
    ]
   },
   "source": [
    "[Discussions](https://discuss.d2l.ai/t/17995)\n"
   ]
  }
 ],
 "metadata": {
  "language_info": {
   "name": "python"
  },
  "required_libs": []
 },
 "nbformat": 4,
 "nbformat_minor": 5
}