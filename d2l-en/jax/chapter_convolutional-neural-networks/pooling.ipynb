{
 "cells": [
  {
   "cell_type": "markdown",
   "id": "3bfd00ab",
   "metadata": {
    "origin_pos": 1
   },
   "source": [
    "# Pooling\n",
    ":label:`sec_pooling`\n",
    "\n",
    "In many cases our ultimate task asks some global question about the image,\n",
    "e.g., *does it contain a cat?* Consequently, the units of our final layer \n",
    "should be sensitive to the entire input.\n",
    "By gradually aggregating information, yielding coarser and coarser maps,\n",
    "we accomplish this goal of ultimately learning a global representation,\n",
    "while keeping all of the advantages of convolutional layers at the intermediate layers of processing.\n",
    "The deeper we go in the network,\n",
    "the larger the receptive field (relative to the input)\n",
    "to which each hidden node is sensitive. Reducing spatial resolution \n",
    "accelerates this process, \n",
    "since the convolution kernels cover a larger effective area. \n",
    "\n",
    "Moreover, when detecting lower-level features, such as edges\n",
    "(as discussed in :numref:`sec_conv_layer`),\n",
    "we often want our representations to be somewhat invariant to translation.\n",
    "For instance, if we take the image `X`\n",
    "with a sharp delineation between black and white\n",
    "and shift the whole image by one pixel to the right,\n",
    "i.e., `Z[i, j] = X[i, j + 1]`,\n",
    "then the output for the new image `Z` might be vastly different.\n",
    "The edge will have shifted by one pixel.\n",
    "In reality, objects hardly ever occur exactly at the same place.\n",
    "In fact, even with a tripod and a stationary object,\n",
    "vibration of the camera due to the movement of the shutter\n",
    "might shift everything by a pixel or so\n",
    "(high-end cameras are loaded with special features to address this problem).\n",
    "\n",
    "This section introduces *pooling layers*,\n",
    "which serve the dual purposes of\n",
    "mitigating the sensitivity of convolutional layers to location\n",
    "and of spatially downsampling representations.\n"
   ]
  },
  {
   "cell_type": "code",
   "execution_count": 1,
   "id": "e6812976",
   "metadata": {
    "execution": {
     "iopub.execute_input": "2023-08-18T19:44:50.449498Z",
     "iopub.status.busy": "2023-08-18T19:44:50.448915Z",
     "iopub.status.idle": "2023-08-18T19:44:57.912673Z",
     "shell.execute_reply": "2023-08-18T19:44:57.911781Z"
    },
    "origin_pos": 4,
    "tab": [
     "jax"
    ]
   },
   "outputs": [
    {
     "name": "stdout",
     "output_type": "stream",
     "text": [
      "No GPU/TPU found, falling back to CPU. (Set TF_CPP_MIN_LOG_LEVEL=0 and rerun for more info.)\n"
     ]
    }
   ],
   "source": [
    "import jax\n",
    "from flax import linen as nn\n",
    "from jax import numpy as jnp\n",
    "from d2l import jax as d2l"
   ]
  },
  {
   "cell_type": "markdown",
   "id": "c13f93e9",
   "metadata": {
    "origin_pos": 5
   },
   "source": [
    "## Maximum Pooling and Average Pooling\n",
    "\n",
    "Like convolutional layers, *pooling* operators\n",
    "consist of a fixed-shape window that is slid over\n",
    "all regions in the input according to its stride,\n",
    "computing a single output for each location traversed\n",
    "by the fixed-shape window (sometimes known as the *pooling window*).\n",
    "However, unlike the cross-correlation computation\n",
    "of the inputs and kernels in the convolutional layer,\n",
    "the pooling layer contains no parameters (there is no *kernel*).\n",
    "Instead, pooling operators are deterministic,\n",
    "typically calculating either the maximum or the average value\n",
    "of the elements in the pooling window.\n",
    "These operations are called *maximum pooling* (*max-pooling* for short)\n",
    "and *average pooling*, respectively.\n",
    "\n",
    "*Average pooling* is essentially as old as CNNs. The idea is akin to \n",
    "downsampling an image. Rather than just taking the value of every second (or third) \n",
    "pixel for the lower resolution image, we can average over adjacent pixels to obtain \n",
    "an image with better signal-to-noise ratio since we are combining the information \n",
    "from multiple adjacent pixels. *Max-pooling* was introduced in \n",
    ":citet:`Riesenhuber.Poggio.1999` in the context of cognitive neuroscience to describe \n",
    "how information aggregation might be aggregated hierarchically for the purpose \n",
    "of object recognition; there already was an earlier version in speech recognition :cite:`Yamaguchi.Sakamoto.Akabane.ea.1990`. In almost all cases, max-pooling, as it is also referred to, \n",
    "is preferable to average pooling. \n",
    "\n",
    "In both cases, as with the cross-correlation operator,\n",
    "we can think of the pooling window\n",
    "as starting from the upper-left of the input tensor\n",
    "and sliding across it from left to right and top to bottom.\n",
    "At each location that the pooling window hits,\n",
    "it computes the maximum or average\n",
    "value of the input subtensor in the window,\n",
    "depending on whether max or average pooling is employed.\n",
    "\n",
    "\n",
    "![Max-pooling with a pooling window shape of $2\\times 2$. The shaded portions are the first output element as well as the input tensor elements used for the output computation: $\\max(0, 1, 3, 4)=4$.](../img/pooling.svg)\n",
    ":label:`fig_pooling`\n",
    "\n",
    "The output tensor in :numref:`fig_pooling`  has a height of 2 and a width of 2.\n",
    "The four elements are derived from the maximum value in each pooling window:\n",
    "\n",
    "$$\n",
    "\\max(0, 1, 3, 4)=4,\\\\\n",
    "\\max(1, 2, 4, 5)=5,\\\\\n",
    "\\max(3, 4, 6, 7)=7,\\\\\n",
    "\\max(4, 5, 7, 8)=8.\\\\\n",
    "$$\n",
    "\n",
    "More generally, we can define a $p \\times q$ pooling layer by aggregating over \n",
    "a region of said size. Returning to the problem of edge detection, \n",
    "we use the output of the convolutional layer\n",
    "as input for $2\\times 2$ max-pooling.\n",
    "Denote by `X` the input of the convolutional layer input and `Y` the pooling layer output. \n",
    "Regardless of whether or not the values of `X[i, j]`, `X[i, j + 1]`, \n",
    "`X[i+1, j]` and `X[i+1, j + 1]` are different,\n",
    "the pooling layer always outputs `Y[i, j] = 1`.\n",
    "That is to say, using the $2\\times 2$ max-pooling layer,\n",
    "we can still detect if the pattern recognized by the convolutional layer\n",
    "moves no more than one element in height or width.\n",
    "\n",
    "In the code below, we (**implement the forward propagation\n",
    "of the pooling layer**) in the `pool2d` function.\n",
    "This function is similar to the `corr2d` function\n",
    "in :numref:`sec_conv_layer`.\n",
    "However, no kernel is needed, computing the output\n",
    "as either the maximum or the average of each region in the input.\n"
   ]
  },
  {
   "cell_type": "code",
   "execution_count": 2,
   "id": "065618de",
   "metadata": {
    "execution": {
     "iopub.execute_input": "2023-08-18T19:44:57.916791Z",
     "iopub.status.busy": "2023-08-18T19:44:57.915951Z",
     "iopub.status.idle": "2023-08-18T19:44:57.921889Z",
     "shell.execute_reply": "2023-08-18T19:44:57.921066Z"
    },
    "origin_pos": 7,
    "tab": [
     "jax"
    ]
   },
   "outputs": [],
   "source": [
    "def pool2d(X, pool_size, mode='max'):\n",
    "    p_h, p_w = pool_size\n",
    "    Y = jnp.zeros((X.shape[0] - p_h + 1, X.shape[1] - p_w + 1))\n",
    "    for i in range(Y.shape[0]):\n",
    "        for j in range(Y.shape[1]):\n",
    "            if mode == 'max':\n",
    "                Y = Y.at[i, j].set(X[i: i + p_h, j: j + p_w].max())\n",
    "            elif mode == 'avg':\n",
    "                Y = Y.at[i, j].set(X[i: i + p_h, j: j + p_w].mean())\n",
    "    return Y"
   ]
  },
  {
   "cell_type": "markdown",
   "id": "c1231b7f",
   "metadata": {
    "origin_pos": 9
   },
   "source": [
    "We can construct the input tensor `X` in :numref:`fig_pooling` to [**validate the output of the two-dimensional max-pooling layer**].\n"
   ]
  },
  {
   "cell_type": "code",
   "execution_count": 3,
   "id": "39df3be4",
   "metadata": {
    "execution": {
     "iopub.execute_input": "2023-08-18T19:44:57.925268Z",
     "iopub.status.busy": "2023-08-18T19:44:57.924631Z",
     "iopub.status.idle": "2023-08-18T19:44:58.072557Z",
     "shell.execute_reply": "2023-08-18T19:44:58.071681Z"
    },
    "origin_pos": 10,
    "tab": [
     "jax"
    ]
   },
   "outputs": [
    {
     "data": {
      "text/plain": [
       "Array([[4., 5.],\n",
       "       [7., 8.]], dtype=float32)"
      ]
     },
     "execution_count": 3,
     "metadata": {},
     "output_type": "execute_result"
    }
   ],
   "source": [
    "X = jnp.array([[0.0, 1.0, 2.0], [3.0, 4.0, 5.0], [6.0, 7.0, 8.0]])\n",
    "pool2d(X, (2, 2))"
   ]
  },
  {
   "cell_type": "markdown",
   "id": "b005e6c5",
   "metadata": {
    "origin_pos": 11
   },
   "source": [
    "Also, we can experiment with (**the average pooling layer**).\n"
   ]
  },
  {
   "cell_type": "code",
   "execution_count": 4,
   "id": "9645cacf",
   "metadata": {
    "execution": {
     "iopub.execute_input": "2023-08-18T19:44:58.076007Z",
     "iopub.status.busy": "2023-08-18T19:44:58.075455Z",
     "iopub.status.idle": "2023-08-18T19:44:58.112592Z",
     "shell.execute_reply": "2023-08-18T19:44:58.111775Z"
    },
    "origin_pos": 12,
    "tab": [
     "jax"
    ]
   },
   "outputs": [
    {
     "data": {
      "text/plain": [
       "Array([[2., 3.],\n",
       "       [5., 6.]], dtype=float32)"
      ]
     },
     "execution_count": 4,
     "metadata": {},
     "output_type": "execute_result"
    }
   ],
   "source": [
    "pool2d(X, (2, 2), 'avg')"
   ]
  },
  {
   "cell_type": "markdown",
   "id": "48e68423",
   "metadata": {
    "origin_pos": 13
   },
   "source": [
    "## [**Padding and Stride**]\n",
    "\n",
    "As with convolutional layers, pooling layers\n",
    "change the output shape.\n",
    "And as before, we can adjust the operation to achieve a desired output shape\n",
    "by padding the input and adjusting the stride.\n",
    "We can demonstrate the use of padding and strides\n",
    "in pooling layers via the built-in two-dimensional max-pooling layer from the deep learning framework.\n",
    "We first construct an input tensor `X` whose shape has four dimensions,\n",
    "where the number of examples (batch size) and number of channels are both 1.\n"
   ]
  },
  {
   "cell_type": "code",
   "execution_count": 5,
   "id": "199169a4",
   "metadata": {
    "execution": {
     "iopub.execute_input": "2023-08-18T19:44:58.116011Z",
     "iopub.status.busy": "2023-08-18T19:44:58.115344Z",
     "iopub.status.idle": "2023-08-18T19:44:58.145324Z",
     "shell.execute_reply": "2023-08-18T19:44:58.144465Z"
    },
    "origin_pos": 16,
    "tab": [
     "jax"
    ]
   },
   "outputs": [
    {
     "data": {
      "text/plain": [
       "Array([[[[ 0.],\n",
       "         [ 1.],\n",
       "         [ 2.],\n",
       "         [ 3.]],\n",
       "\n",
       "        [[ 4.],\n",
       "         [ 5.],\n",
       "         [ 6.],\n",
       "         [ 7.]],\n",
       "\n",
       "        [[ 8.],\n",
       "         [ 9.],\n",
       "         [10.],\n",
       "         [11.]],\n",
       "\n",
       "        [[12.],\n",
       "         [13.],\n",
       "         [14.],\n",
       "         [15.]]]], dtype=float32)"
      ]
     },
     "execution_count": 5,
     "metadata": {},
     "output_type": "execute_result"
    }
   ],
   "source": [
    "X = jnp.arange(16, dtype=jnp.float32).reshape((1, 4, 4, 1))\n",
    "X"
   ]
  },
  {
   "cell_type": "markdown",
   "id": "13f7a3db",
   "metadata": {
    "origin_pos": 17
   },
   "source": [
    "Since pooling aggregates information from an area, (**deep learning frameworks default to matching pooling window sizes and stride.**) For instance, if we use a pooling window of shape `(3, 3)`\n",
    "we get a stride shape of `(3, 3)` by default.\n"
   ]
  },
  {
   "cell_type": "code",
   "execution_count": 6,
   "id": "5ecbb513",
   "metadata": {
    "execution": {
     "iopub.execute_input": "2023-08-18T19:44:58.148581Z",
     "iopub.status.busy": "2023-08-18T19:44:58.147959Z",
     "iopub.status.idle": "2023-08-18T19:44:58.170012Z",
     "shell.execute_reply": "2023-08-18T19:44:58.169188Z"
    },
    "origin_pos": 21,
    "tab": [
     "jax"
    ]
   },
   "outputs": [
    {
     "data": {
      "text/plain": [
       "Array([[[[10.]]]], dtype=float32)"
      ]
     },
     "execution_count": 6,
     "metadata": {},
     "output_type": "execute_result"
    }
   ],
   "source": [
    "# Pooling has no model parameters, hence it needs no initialization\n",
    "nn.max_pool(X, window_shape=(3, 3), strides=(3, 3))"
   ]
  },
  {
   "cell_type": "markdown",
   "id": "e14e9a08",
   "metadata": {
    "origin_pos": 22
   },
   "source": [
    "Needless to say, [**the stride and padding can be manually specified**] to override framework defaults if required.\n"
   ]
  },
  {
   "cell_type": "code",
   "execution_count": 7,
   "id": "8f4edaa5",
   "metadata": {
    "execution": {
     "iopub.execute_input": "2023-08-18T19:44:58.173294Z",
     "iopub.status.busy": "2023-08-18T19:44:58.172684Z",
     "iopub.status.idle": "2023-08-18T19:44:58.270980Z",
     "shell.execute_reply": "2023-08-18T19:44:58.270143Z"
    },
    "origin_pos": 26,
    "tab": [
     "jax"
    ]
   },
   "outputs": [
    {
     "data": {
      "text/plain": [
       "Array([[[[ 5.],\n",
       "         [ 7.]],\n",
       "\n",
       "        [[13.],\n",
       "         [15.]]]], dtype=float32)"
      ]
     },
     "execution_count": 7,
     "metadata": {},
     "output_type": "execute_result"
    }
   ],
   "source": [
    "X_padded = jnp.pad(X, ((0, 0), (1, 0), (1, 0), (0, 0)), mode='constant')\n",
    "nn.max_pool(X_padded, window_shape=(3, 3), padding='VALID', strides=(2, 2))"
   ]
  },
  {
   "cell_type": "markdown",
   "id": "34e7b77a",
   "metadata": {
    "origin_pos": 27
   },
   "source": [
    "Of course, we can specify an arbitrary rectangular pooling window with arbitrary height and width respectively, as the example below shows.\n"
   ]
  },
  {
   "cell_type": "code",
   "execution_count": 8,
   "id": "39fc4cc6",
   "metadata": {
    "execution": {
     "iopub.execute_input": "2023-08-18T19:44:58.274416Z",
     "iopub.status.busy": "2023-08-18T19:44:58.273793Z",
     "iopub.status.idle": "2023-08-18T19:44:58.371759Z",
     "shell.execute_reply": "2023-08-18T19:44:58.370902Z"
    },
    "origin_pos": 31,
    "tab": [
     "jax"
    ]
   },
   "outputs": [
    {
     "data": {
      "text/plain": [
       "Array([[[[ 5.],\n",
       "         [ 7.]],\n",
       "\n",
       "        [[13.],\n",
       "         [15.]]]], dtype=float32)"
      ]
     },
     "execution_count": 8,
     "metadata": {},
     "output_type": "execute_result"
    }
   ],
   "source": [
    "X_padded = jnp.pad(X, ((0, 0), (0, 0), (1, 1), (0, 0)), mode='constant')\n",
    "nn.max_pool(X_padded, window_shape=(2, 3), strides=(2, 3), padding='VALID')"
   ]
  },
  {
   "cell_type": "markdown",
   "id": "8886be27",
   "metadata": {
    "origin_pos": 32
   },
   "source": [
    "## Multiple Channels\n",
    "\n",
    "When processing multi-channel input data,\n",
    "[**the pooling layer pools each input channel separately**],\n",
    "rather than summing the inputs up over channels\n",
    "as in a convolutional layer.\n",
    "This means that the number of output channels for the pooling layer\n",
    "is the same as the number of input channels.\n",
    "Below, we will concatenate tensors `X` and `X + 1`\n",
    "on the channel dimension to construct an input with two channels.\n"
   ]
  },
  {
   "cell_type": "code",
   "execution_count": 9,
   "id": "280388f0",
   "metadata": {
    "execution": {
     "iopub.execute_input": "2023-08-18T19:44:58.375319Z",
     "iopub.status.busy": "2023-08-18T19:44:58.374780Z",
     "iopub.status.idle": "2023-08-18T19:44:58.410060Z",
     "shell.execute_reply": "2023-08-18T19:44:58.409236Z"
    },
    "origin_pos": 35,
    "tab": [
     "jax"
    ]
   },
   "outputs": [
    {
     "data": {
      "text/plain": [
       "Array([[[[ 0.,  1.],\n",
       "         [ 1.,  2.],\n",
       "         [ 2.,  3.],\n",
       "         [ 3.,  4.]],\n",
       "\n",
       "        [[ 4.,  5.],\n",
       "         [ 5.,  6.],\n",
       "         [ 6.,  7.],\n",
       "         [ 7.,  8.]],\n",
       "\n",
       "        [[ 8.,  9.],\n",
       "         [ 9., 10.],\n",
       "         [10., 11.],\n",
       "         [11., 12.]],\n",
       "\n",
       "        [[12., 13.],\n",
       "         [13., 14.],\n",
       "         [14., 15.],\n",
       "         [15., 16.]]]], dtype=float32)"
      ]
     },
     "execution_count": 9,
     "metadata": {},
     "output_type": "execute_result"
    }
   ],
   "source": [
    "# Concatenate along `dim=3` due to channels-last syntax\n",
    "X = jnp.concatenate([X, X + 1], 3)\n",
    "X"
   ]
  },
  {
   "cell_type": "markdown",
   "id": "33eba7fd",
   "metadata": {
    "origin_pos": 36
   },
   "source": [
    "As we can see, the number of output channels is still two after pooling.\n"
   ]
  },
  {
   "cell_type": "code",
   "execution_count": 10,
   "id": "bbea7db4",
   "metadata": {
    "execution": {
     "iopub.execute_input": "2023-08-18T19:44:58.413619Z",
     "iopub.status.busy": "2023-08-18T19:44:58.412801Z",
     "iopub.status.idle": "2023-08-18T19:44:58.515953Z",
     "shell.execute_reply": "2023-08-18T19:44:58.515100Z"
    },
    "origin_pos": 40,
    "tab": [
     "jax"
    ]
   },
   "outputs": [
    {
     "data": {
      "text/plain": [
       "Array([[[[ 5.,  6.],\n",
       "         [ 7.,  8.]],\n",
       "\n",
       "        [[13., 14.],\n",
       "         [15., 16.]]]], dtype=float32)"
      ]
     },
     "execution_count": 10,
     "metadata": {},
     "output_type": "execute_result"
    }
   ],
   "source": [
    "X_padded = jnp.pad(X, ((0, 0), (1, 0), (1, 0), (0, 0)), mode='constant')\n",
    "nn.max_pool(X_padded, window_shape=(3, 3), padding='VALID', strides=(2, 2))"
   ]
  },
  {
   "cell_type": "markdown",
   "id": "844538a8",
   "metadata": {
    "origin_pos": 42
   },
   "source": [
    "## Summary\n",
    "\n",
    "Pooling is an exceedingly simple operation. It does exactly what its name indicates, aggregate results over a window of values. All convolution semantics, such as strides and padding apply in the same way as they did previously. Note that pooling is indifferent to channels, i.e., it leaves the number of channels unchanged and it applies to each channel separately. Lastly, of the two popular pooling choices, max-pooling is preferable to average pooling, as it confers some degree of invariance to output. A popular choice is to pick a pooling window size of $2 \\times 2$ to quarter the spatial resolution of output. \n",
    "\n",
    "Note that there are many more ways of reducing resolution beyond pooling. For instance, in stochastic pooling :cite:`Zeiler.Fergus.2013` and fractional max-pooling :cite:`Graham.2014` aggregation is combined with randomization. This can slightly improve the accuracy in some cases. Lastly, as we will see later with the attention mechanism, there are more refined ways of aggregating over outputs, e.g., by using the alignment between a query and representation vectors. \n",
    "\n",
    "\n",
    "## Exercises\n",
    "\n",
    "1. Implement average pooling through a convolution. \n",
    "1. Prove that max-pooling cannot be implemented through a convolution alone. \n",
    "1. Max-pooling can be accomplished using ReLU operations, i.e., $\\textrm{ReLU}(x) = \\max(0, x)$.\n",
    "    1. Express $\\max (a, b)$ by using only ReLU operations.\n",
    "    1. Use this to implement max-pooling by means of convolutions and ReLU layers. \n",
    "    1. How many channels and layers do you need for a $2 \\times 2$ convolution? How many for a $3 \\times 3$ convolution?\n",
    "1. What is the computational cost of the pooling layer? Assume that the input to the pooling layer is of size $c\\times h\\times w$, the pooling window has a shape of $p_\\textrm{h}\\times p_\\textrm{w}$ with a padding of $(p_\\textrm{h}, p_\\textrm{w})$ and a stride of $(s_\\textrm{h}, s_\\textrm{w})$.\n",
    "1. Why do you expect max-pooling and average pooling to work differently?\n",
    "1. Do we need a separate minimum pooling layer? Can you replace it with another operation?\n",
    "1. We could use the softmax operation for pooling. Why might it not be so popular?\n"
   ]
  },
  {
   "cell_type": "markdown",
   "id": "a9625f53",
   "metadata": {
    "origin_pos": 46,
    "tab": [
     "jax"
    ]
   },
   "source": [
    "[Discussions](https://discuss.d2l.ai/t/17999)\n"
   ]
  }
 ],
 "metadata": {
  "language_info": {
   "name": "python"
  },
  "required_libs": []
 },
 "nbformat": 4,
 "nbformat_minor": 5
}