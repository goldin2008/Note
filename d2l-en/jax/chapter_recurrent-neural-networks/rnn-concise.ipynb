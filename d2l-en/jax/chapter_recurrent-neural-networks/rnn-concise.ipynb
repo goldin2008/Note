{
 "cells": [
  {
   "cell_type": "markdown",
   "id": "b43d0d8e",
   "metadata": {
    "origin_pos": 0
   },
   "source": [
    "# Concise Implementation of Recurrent Neural Networks\n",
    ":label:`sec_rnn-concise`\n",
    "\n",
    "Like most of our from-scratch implementations,\n",
    ":numref:`sec_rnn-scratch` was designed \n",
    "to provide insight into how each component works.\n",
    "But when you are using RNNs every day \n",
    "or writing production code,\n",
    "you will want to rely more on libraries\n",
    "that cut down on both implementation time \n",
    "(by supplying library code for common models and functions)\n",
    "and computation time \n",
    "(by optimizing the heck out of these library implementations).\n",
    "This section will show you how to implement \n",
    "the same language model more efficiently\n",
    "using the high-level API provided \n",
    "by your deep learning framework.\n",
    "We begin, as before, by loading \n",
    "*The Time Machine* dataset.\n"
   ]
  },
  {
   "cell_type": "code",
   "execution_count": 1,
   "id": "db1be653",
   "metadata": {
    "execution": {
     "iopub.execute_input": "2023-08-18T19:46:39.986561Z",
     "iopub.status.busy": "2023-08-18T19:46:39.986304Z",
     "iopub.status.idle": "2023-08-18T19:46:45.948477Z",
     "shell.execute_reply": "2023-08-18T19:46:45.947545Z"
    },
    "origin_pos": 5,
    "tab": [
     "jax"
    ]
   },
   "outputs": [
    {
     "name": "stdout",
     "output_type": "stream",
     "text": [
      "No GPU/TPU found, falling back to CPU. (Set TF_CPP_MIN_LOG_LEVEL=0 and rerun for more info.)\n"
     ]
    }
   ],
   "source": [
    "from flax import linen as nn\n",
    "from jax import numpy as jnp\n",
    "from d2l import jax as d2l"
   ]
  },
  {
   "cell_type": "markdown",
   "id": "87e0489d",
   "metadata": {
    "origin_pos": 6
   },
   "source": [
    "## [**Defining the Model**]\n",
    "\n",
    "We define the following class\n",
    "using the RNN implemented\n",
    "by high-level APIs.\n"
   ]
  },
  {
   "cell_type": "markdown",
   "id": "efe49e04",
   "metadata": {
    "origin_pos": 8,
    "tab": [
     "jax"
    ]
   },
   "source": [
    "Flax does not provide an RNNCell for concise implementation of Vanilla RNNs\n",
    "as of today. There are more advanced variants of RNNs like LSTMs and GRUs\n",
    "which are available in the Flax `linen` API.\n"
   ]
  },
  {
   "cell_type": "code",
   "execution_count": 2,
   "id": "a7cbb201",
   "metadata": {
    "execution": {
     "iopub.execute_input": "2023-08-18T19:46:45.952657Z",
     "iopub.status.busy": "2023-08-18T19:46:45.951934Z",
     "iopub.status.idle": "2023-08-18T19:46:45.957902Z",
     "shell.execute_reply": "2023-08-18T19:46:45.957017Z"
    },
    "origin_pos": 12,
    "tab": [
     "jax"
    ]
   },
   "outputs": [],
   "source": [
    "class RNN(nn.Module):  #@save\n",
    "    \"\"\"The RNN model implemented with high-level APIs.\"\"\"\n",
    "    num_hiddens: int\n",
    "\n",
    "    @nn.compact\n",
    "    def __call__(self, inputs, H=None):\n",
    "        raise NotImplementedError"
   ]
  },
  {
   "cell_type": "markdown",
   "id": "f79fa64f",
   "metadata": {
    "origin_pos": 13
   },
   "source": [
    "Inheriting from the `RNNLMScratch` class in :numref:`sec_rnn-scratch`, \n",
    "the following `RNNLM` class defines a complete RNN-based language model.\n",
    "Note that we need to create a separate fully connected output layer.\n"
   ]
  },
  {
   "cell_type": "code",
   "execution_count": 3,
   "id": "9747a775",
   "metadata": {
    "execution": {
     "iopub.execute_input": "2023-08-18T19:46:45.961389Z",
     "iopub.status.busy": "2023-08-18T19:46:45.960789Z",
     "iopub.status.idle": "2023-08-18T19:46:45.967309Z",
     "shell.execute_reply": "2023-08-18T19:46:45.966450Z"
    },
    "origin_pos": 16,
    "tab": [
     "jax"
    ]
   },
   "outputs": [],
   "source": [
    "class RNNLM(d2l.RNNLMScratch):  #@save\n",
    "    \"\"\"The RNN-based language model implemented with high-level APIs.\"\"\"\n",
    "    training: bool = True\n",
    "\n",
    "    def setup(self):\n",
    "        self.linear = nn.Dense(self.vocab_size)\n",
    "\n",
    "    def output_layer(self, hiddens):\n",
    "        return self.linear(hiddens).swapaxes(0, 1)\n",
    "\n",
    "    def forward(self, X, state=None):\n",
    "        embs = self.one_hot(X)\n",
    "        rnn_outputs, _ = self.rnn(embs, state, self.training)\n",
    "        return self.output_layer(rnn_outputs)"
   ]
  },
  {
   "cell_type": "markdown",
   "id": "3f15febe",
   "metadata": {
    "origin_pos": 17
   },
   "source": [
    "## Training and Predicting\n",
    "\n",
    "Before training the model, let's [**make a prediction \n",
    "with a model initialized with random weights.**]\n",
    "Given that we have not trained the network, \n",
    "it will generate nonsensical predictions.\n"
   ]
  },
  {
   "cell_type": "markdown",
   "id": "87f4173f",
   "metadata": {
    "origin_pos": 19
   },
   "source": [
    "Next, we [**train our model, leveraging the high-level API**].\n"
   ]
  },
  {
   "cell_type": "markdown",
   "id": "8551b08a",
   "metadata": {
    "origin_pos": 21
   },
   "source": [
    "Compared with :numref:`sec_rnn-scratch`,\n",
    "this model achieves comparable perplexity,\n",
    "but runs faster due to the optimized implementations.\n",
    "As before, we can generate predicted tokens \n",
    "following the specified prefix string.\n"
   ]
  },
  {
   "cell_type": "markdown",
   "id": "320b5329",
   "metadata": {
    "origin_pos": 24
   },
   "source": [
    "## Summary\n",
    "\n",
    "High-level APIs in deep learning frameworks provide implementations of standard RNNs.\n",
    "These libraries help you to avoid wasting time reimplementing standard models.\n",
    "Moreover,\n",
    "framework implementations are often highly optimized, \n",
    "  leading to significant (computational) performance gains \n",
    "  when compared with implementations from scratch.\n",
    "\n",
    "## Exercises\n",
    "\n",
    "1. Can you make the RNN model overfit using the high-level APIs?\n",
    "1. Implement the autoregressive model of :numref:`sec_sequence` using an RNN.\n"
   ]
  },
  {
   "cell_type": "markdown",
   "id": "0fb0836c",
   "metadata": {
    "origin_pos": 28,
    "tab": [
     "jax"
    ]
   },
   "source": [
    "[Discussions](https://discuss.d2l.ai/t/18015)\n"
   ]
  }
 ],
 "metadata": {
  "language_info": {
   "name": "python"
  },
  "required_libs": []
 },
 "nbformat": 4,
 "nbformat_minor": 5
}