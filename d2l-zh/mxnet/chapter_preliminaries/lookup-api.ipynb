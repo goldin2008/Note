{
 "cells": [
  {
   "cell_type": "markdown",
   "id": "24acc904",
   "metadata": {
    "origin_pos": 0
   },
   "source": [
    "# 查阅文档\n"
   ]
  },
  {
   "cell_type": "markdown",
   "id": "4b8f1cda",
   "metadata": {
    "origin_pos": 1,
    "tab": [
     "mxnet"
    ]
   },
   "source": [
    "由于篇幅限制，本书不可能介绍每一个MXNet函数和类。\n",
    "API文档、其他教程和示例提供了本书之外的大量文档。\n",
    "本节提供了一些查看MXNet API的指导。\n"
   ]
  },
  {
   "cell_type": "markdown",
   "id": "b0ece596",
   "metadata": {
    "origin_pos": 4
   },
   "source": [
    "## 查找模块中的所有函数和类\n",
    "\n",
    "为了知道模块中可以调用哪些函数和类，可以调用`dir`函数。\n",
    "例如，我们可以(**查询随机数生成模块中的所有属性：**)\n"
   ]
  },
  {
   "cell_type": "code",
   "execution_count": 1,
   "id": "f9c79f48",
   "metadata": {
    "execution": {
     "iopub.execute_input": "2023-08-18T07:15:34.270254Z",
     "iopub.status.busy": "2023-08-18T07:15:34.269980Z",
     "iopub.status.idle": "2023-08-18T07:15:36.063545Z",
     "shell.execute_reply": "2023-08-18T07:15:36.062495Z"
    },
    "origin_pos": 5,
    "tab": [
     "mxnet"
    ]
   },
   "outputs": [
    {
     "name": "stdout",
     "output_type": "stream",
     "text": [
      "['__all__', '__builtins__', '__cached__', '__doc__', '__file__', '__loader__', '__name__', '__package__', '__spec__', '_mx_nd_np', 'beta', 'chisquare', 'choice', 'exponential', 'gamma', 'gumbel', 'logistic', 'lognormal', 'multinomial', 'multivariate_normal', 'normal', 'pareto', 'power', 'rand', 'randint', 'randn', 'rayleigh', 'shuffle', 'uniform', 'weibull']\n"
     ]
    }
   ],
   "source": [
    "from mxnet import np\n",
    "\n",
    "print(dir(np.random))"
   ]
  },
  {
   "cell_type": "markdown",
   "id": "8b17baca",
   "metadata": {
    "origin_pos": 9
   },
   "source": [
    "通常可以忽略以“`__`”（双下划线）开始和结束的函数，它们是Python中的特殊对象，\n",
    "或以单个“`_`”（单下划线）开始的函数，它们通常是内部函数。\n",
    "根据剩余的函数名或属性名，我们可能会猜测这个模块提供了各种生成随机数的方法，\n",
    "包括从均匀分布（`uniform`）、正态分布（`normal`）和多项分布（`multinomial`）中采样。\n",
    "\n",
    "## 查找特定函数和类的用法\n",
    "\n",
    "有关如何使用给定函数或类的更具体说明，可以调用`help`函数。\n",
    "例如，我们来[**查看张量`ones`函数的用法。**]\n"
   ]
  },
  {
   "cell_type": "code",
   "execution_count": 2,
   "id": "a2b14c21",
   "metadata": {
    "execution": {
     "iopub.execute_input": "2023-08-18T07:15:36.068048Z",
     "iopub.status.busy": "2023-08-18T07:15:36.067333Z",
     "iopub.status.idle": "2023-08-18T07:15:36.074284Z",
     "shell.execute_reply": "2023-08-18T07:15:36.072904Z"
    },
    "origin_pos": 10,
    "tab": [
     "mxnet"
    ]
   },
   "outputs": [
    {
     "name": "stdout",
     "output_type": "stream",
     "text": [
      "Help on function ones in module mxnet.numpy:\n",
      "\n",
      "ones(shape, dtype=<class 'numpy.float32'>, order='C', ctx=None)\n",
      "    Return a new array of given shape and type, filled with ones.\n",
      "    This function currently only supports storing multi-dimensional data\n",
      "    in row-major (C-style).\n",
      "    \n",
      "    Parameters\n",
      "    ----------\n",
      "    shape : int or tuple of int\n",
      "        The shape of the empty array.\n",
      "    dtype : str or numpy.dtype, optional\n",
      "        An optional value type. Default is `numpy.float32`. Note that this\n",
      "        behavior is different from NumPy's `ones` function where `float64`\n",
      "        is the default value, because `float32` is considered as the default\n",
      "        data type in deep learning.\n",
      "    order : {'C'}, optional, default: 'C'\n",
      "        How to store multi-dimensional data in memory, currently only row-major\n",
      "        (C-style) is supported.\n",
      "    ctx : Context, optional\n",
      "        An optional device context (default is the current default context).\n",
      "    \n",
      "    Returns\n",
      "    -------\n",
      "    out : ndarray\n",
      "        Array of ones with the given shape, dtype, and ctx.\n",
      "    \n",
      "    Examples\n",
      "    --------\n",
      "    >>> np.ones(5)\n",
      "    array([1., 1., 1., 1., 1.])\n",
      "    \n",
      "    >>> np.ones((5,), dtype=int)\n",
      "    array([1, 1, 1, 1, 1], dtype=int64)\n",
      "    \n",
      "    >>> np.ones((2, 1))\n",
      "    array([[1.],\n",
      "           [1.]])\n",
      "    \n",
      "    >>> s = (2,2)\n",
      "    >>> np.ones(s)\n",
      "    array([[1., 1.],\n",
      "           [1., 1.]])\n",
      "\n"
     ]
    }
   ],
   "source": [
    "help(np.ones)"
   ]
  },
  {
   "cell_type": "markdown",
   "id": "92b65653",
   "metadata": {
    "origin_pos": 14
   },
   "source": [
    "从文档中，我们可以看到`ones`函数创建一个具有指定形状的新张量，并将所有元素值设置为1。\n",
    "下面来[**运行一个快速测试**]来确认这一解释：\n"
   ]
  },
  {
   "cell_type": "code",
   "execution_count": 3,
   "id": "73a1e0bb",
   "metadata": {
    "execution": {
     "iopub.execute_input": "2023-08-18T07:15:36.078264Z",
     "iopub.status.busy": "2023-08-18T07:15:36.077563Z",
     "iopub.status.idle": "2023-08-18T07:15:36.089367Z",
     "shell.execute_reply": "2023-08-18T07:15:36.088400Z"
    },
    "origin_pos": 15,
    "tab": [
     "mxnet"
    ]
   },
   "outputs": [
    {
     "name": "stdout",
     "output_type": "stream",
     "text": [
      "[07:15:36] ../src/storage/storage.cc:196: Using Pooled (Naive) StorageManager for CPU\n"
     ]
    },
    {
     "data": {
      "text/plain": [
       "array([1., 1., 1., 1.])"
      ]
     },
     "execution_count": 3,
     "metadata": {},
     "output_type": "execute_result"
    }
   ],
   "source": [
    "np.ones(4)"
   ]
  },
  {
   "cell_type": "markdown",
   "id": "5819a932",
   "metadata": {
    "origin_pos": 19
   },
   "source": [
    "在Jupyter记事本中，我们可以使用`?`指令在另一个浏览器窗口中显示文档。\n",
    "例如，`list?`指令将创建与`help(list)`指令几乎相同的内容，并在新的浏览器窗口中显示它。\n",
    "此外，如果我们使用两个问号，如`list??`，将显示实现该函数的Python代码。\n",
    "\n",
    "## 小结\n",
    "\n",
    "* 官方文档提供了本书之外的大量描述和示例。\n",
    "* 可以通过调用`dir`和`help`函数或在Jupyter记事本中使用`?`和`??`查看API的用法文档。\n",
    "\n",
    "## 练习\n",
    "\n",
    "1. 在深度学习框架中查找任何函数或类的文档。请尝试在这个框架的官方网站上找到文档。\n"
   ]
  },
  {
   "cell_type": "markdown",
   "id": "eac81b0d",
   "metadata": {
    "origin_pos": 20,
    "tab": [
     "mxnet"
    ]
   },
   "source": [
    "[Discussions](https://discuss.d2l.ai/t/1764)\n"
   ]
  }
 ],
 "metadata": {
  "language_info": {
   "name": "python"
  },
  "required_libs": []
 },
 "nbformat": 4,
 "nbformat_minor": 5
}