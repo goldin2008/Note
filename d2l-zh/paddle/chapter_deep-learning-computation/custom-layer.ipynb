{
 "cells": [
  {
   "cell_type": "markdown",
   "id": "1609fc3a",
   "metadata": {
    "origin_pos": 0
   },
   "source": [
    "# 自定义层\n",
    "\n",
    "深度学习成功背后的一个因素是神经网络的灵活性：\n",
    "我们可以用创造性的方式组合不同的层，从而设计出适用于各种任务的架构。\n",
    "例如，研究人员发明了专门用于处理图像、文本、序列数据和执行动态规划的层。\n",
    "有时我们会遇到或要自己发明一个现在在深度学习框架中还不存在的层。\n",
    "在这些情况下，必须构建自定义层。本节将展示如何构建自定义层。\n",
    "\n",
    "## 不带参数的层\n",
    "\n",
    "首先，我们(**构造一个没有任何参数的自定义层**)。\n",
    "回忆一下在 :numref:`sec_model_construction`对块的介绍，\n",
    "这应该看起来很眼熟。\n",
    "下面的`CenteredLayer`类要从其输入中减去均值。\n",
    "要构建它，我们只需继承基础层类并实现前向传播功能。\n"
   ]
  },
  {
   "cell_type": "code",
   "execution_count": 1,
   "id": "afd98acb",
   "metadata": {
    "execution": {
     "iopub.execute_input": "2023-08-18T09:11:38.182725Z",
     "iopub.status.busy": "2023-08-18T09:11:38.182089Z",
     "iopub.status.idle": "2023-08-18T09:11:39.390928Z",
     "shell.execute_reply": "2023-08-18T09:11:39.389141Z"
    },
    "origin_pos": 4,
    "tab": [
     "paddle"
    ]
   },
   "outputs": [],
   "source": [
    "import warnings\n",
    "\n",
    "warnings.filterwarnings(action='ignore')\n",
    "import paddle\n",
    "import paddle.nn.functional as F\n",
    "from paddle import nn\n",
    "\n",
    "\n",
    "class CenteredLayer(nn.Layer):\n",
    "    def __init__(self):\n",
    "        super().__init__()\n",
    "\n",
    "    def forward(self, X):\n",
    "        return X - X.mean()"
   ]
  },
  {
   "cell_type": "markdown",
   "id": "642dffb3",
   "metadata": {
    "origin_pos": 5
   },
   "source": [
    "让我们向该层提供一些数据，验证它是否能按预期工作。\n"
   ]
  },
  {
   "cell_type": "code",
   "execution_count": 2,
   "id": "925895d1",
   "metadata": {
    "execution": {
     "iopub.execute_input": "2023-08-18T09:11:39.396179Z",
     "iopub.status.busy": "2023-08-18T09:11:39.395273Z",
     "iopub.status.idle": "2023-08-18T09:11:39.592773Z",
     "shell.execute_reply": "2023-08-18T09:11:39.591936Z"
    },
    "origin_pos": 9,
    "tab": [
     "paddle"
    ]
   },
   "outputs": [
    {
     "data": {
      "text/plain": [
       "Tensor(shape=[5], dtype=float32, place=Place(cpu), stop_gradient=True,\n",
       "       [-2., -1.,  0.,  1.,  2.])"
      ]
     },
     "execution_count": 2,
     "metadata": {},
     "output_type": "execute_result"
    }
   ],
   "source": [
    "layer = CenteredLayer()\n",
    "layer(paddle.to_tensor([1, 2, 3, 4, 5], dtype='float32'))"
   ]
  },
  {
   "cell_type": "markdown",
   "id": "0dfc535f",
   "metadata": {
    "origin_pos": 10
   },
   "source": [
    "现在，我们可以[**将层作为组件合并到更复杂的模型中**]。\n"
   ]
  },
  {
   "cell_type": "code",
   "execution_count": 3,
   "id": "08ca2063",
   "metadata": {
    "execution": {
     "iopub.execute_input": "2023-08-18T09:11:39.596018Z",
     "iopub.status.busy": "2023-08-18T09:11:39.595740Z",
     "iopub.status.idle": "2023-08-18T09:11:39.601022Z",
     "shell.execute_reply": "2023-08-18T09:11:39.600235Z"
    },
    "origin_pos": 12,
    "tab": [
     "paddle"
    ]
   },
   "outputs": [],
   "source": [
    "net = nn.Sequential(nn.Linear(8, 128), CenteredLayer())"
   ]
  },
  {
   "cell_type": "markdown",
   "id": "8830f808",
   "metadata": {
    "origin_pos": 14
   },
   "source": [
    "作为额外的健全性检查，我们可以在向该网络发送随机数据后，检查均值是否为0。\n",
    "由于我们处理的是浮点数，因为存储精度的原因，我们仍然可能会看到一个非常小的非零数。\n"
   ]
  },
  {
   "cell_type": "code",
   "execution_count": 4,
   "id": "325c8d4e",
   "metadata": {
    "execution": {
     "iopub.execute_input": "2023-08-18T09:11:39.604003Z",
     "iopub.status.busy": "2023-08-18T09:11:39.603731Z",
     "iopub.status.idle": "2023-08-18T09:11:39.610013Z",
     "shell.execute_reply": "2023-08-18T09:11:39.609202Z"
    },
    "origin_pos": 18,
    "tab": [
     "paddle"
    ]
   },
   "outputs": [
    {
     "data": {
      "text/plain": [
       "Tensor(shape=[1], dtype=float32, place=Place(cpu), stop_gradient=False,\n",
       "       [-0.00000000])"
      ]
     },
     "execution_count": 4,
     "metadata": {},
     "output_type": "execute_result"
    }
   ],
   "source": [
    "Y = net(paddle.rand([4, 8]))\n",
    "Y.mean()"
   ]
  },
  {
   "cell_type": "markdown",
   "id": "70cb943f",
   "metadata": {
    "origin_pos": 19
   },
   "source": [
    "## [**带参数的层**]\n",
    "\n",
    "以上我们知道了如何定义简单的层，下面我们继续定义具有参数的层，\n",
    "这些参数可以通过训练进行调整。\n",
    "我们可以使用内置函数来创建参数，这些函数提供一些基本的管理功能。\n",
    "比如管理访问、初始化、共享、保存和加载模型参数。\n",
    "这样做的好处之一是：我们不需要为每个自定义层编写自定义的序列化程序。\n",
    "\n",
    "现在，让我们实现自定义版本的全连接层。\n",
    "回想一下，该层需要两个参数，一个用于表示权重，另一个用于表示偏置项。\n",
    "在此实现中，我们使用修正线性单元作为激活函数。\n",
    "该层需要输入参数：`in_units`和`units`，分别表示输入数和输出数。\n"
   ]
  },
  {
   "cell_type": "code",
   "execution_count": 5,
   "id": "1f1c8ef2",
   "metadata": {
    "execution": {
     "iopub.execute_input": "2023-08-18T09:11:39.613083Z",
     "iopub.status.busy": "2023-08-18T09:11:39.612812Z",
     "iopub.status.idle": "2023-08-18T09:11:39.618266Z",
     "shell.execute_reply": "2023-08-18T09:11:39.617475Z"
    },
    "origin_pos": 23,
    "tab": [
     "paddle"
    ]
   },
   "outputs": [],
   "source": [
    "class MyLinear(nn.Layer):\n",
    "    def __init__(self, in_units, units):\n",
    "        super().__init__()\n",
    "        self.weight = paddle.create_parameter(shape=(in_units, units), dtype='float32')\n",
    "        self.bias = paddle.create_parameter(shape=(units,), dtype='float32')\n",
    "\n",
    "    def forward(self, X):\n",
    "        linear = paddle.matmul(X, self.weight) + self.bias\n",
    "        return F.relu(linear)"
   ]
  },
  {
   "cell_type": "markdown",
   "id": "3efd93ec",
   "metadata": {
    "origin_pos": 26,
    "tab": [
     "paddle"
    ]
   },
   "source": [
    "接下来，我们实例化`MyLinear`类并访问其模型参数。\n"
   ]
  },
  {
   "cell_type": "code",
   "execution_count": 6,
   "id": "45e01660",
   "metadata": {
    "execution": {
     "iopub.execute_input": "2023-08-18T09:11:39.621495Z",
     "iopub.status.busy": "2023-08-18T09:11:39.621224Z",
     "iopub.status.idle": "2023-08-18T09:11:39.627811Z",
     "shell.execute_reply": "2023-08-18T09:11:39.626987Z"
    },
    "origin_pos": 28,
    "tab": [
     "paddle"
    ]
   },
   "outputs": [
    {
     "data": {
      "text/plain": [
       "Parameter containing:\n",
       "Tensor(shape=[5, 3], dtype=float32, place=Place(cpu), stop_gradient=False,\n",
       "       [[ 0.27573973,  0.74489242,  0.31523722],\n",
       "        [ 0.12920702,  0.38870257,  0.47107095],\n",
       "        [-0.19269449, -0.55530524,  0.79270011],\n",
       "        [-0.58781934, -0.50390607, -0.54891467],\n",
       "        [ 0.06385410, -0.79282713, -0.10914403]])"
      ]
     },
     "execution_count": 6,
     "metadata": {},
     "output_type": "execute_result"
    }
   ],
   "source": [
    "linear = MyLinear(5, 3)\n",
    "linear.weight"
   ]
  },
  {
   "cell_type": "markdown",
   "id": "61979a80",
   "metadata": {
    "origin_pos": 30
   },
   "source": [
    "我们可以[**使用自定义层直接执行前向传播计算**]。\n"
   ]
  },
  {
   "cell_type": "code",
   "execution_count": 7,
   "id": "df9f5c1d",
   "metadata": {
    "execution": {
     "iopub.execute_input": "2023-08-18T09:11:39.630818Z",
     "iopub.status.busy": "2023-08-18T09:11:39.630547Z",
     "iopub.status.idle": "2023-08-18T09:11:39.636629Z",
     "shell.execute_reply": "2023-08-18T09:11:39.635851Z"
    },
    "origin_pos": 34,
    "tab": [
     "paddle"
    ]
   },
   "outputs": [
    {
     "data": {
      "text/plain": [
       "Tensor(shape=[2, 3], dtype=float32, place=Place(cpu), stop_gradient=False,\n",
       "       [[0.        , 0.        , 0.77909648],\n",
       "        [0.        , 0.65021682, 1.60768795]])"
      ]
     },
     "execution_count": 7,
     "metadata": {},
     "output_type": "execute_result"
    }
   ],
   "source": [
    "linear(paddle.randn([2, 5]))"
   ]
  },
  {
   "cell_type": "markdown",
   "id": "763e180e",
   "metadata": {
    "origin_pos": 35
   },
   "source": [
    "我们还可以(**使用自定义层构建模型**)，就像使用内置的全连接层一样使用自定义层。\n"
   ]
  },
  {
   "cell_type": "code",
   "execution_count": 8,
   "id": "ef003d6f",
   "metadata": {
    "execution": {
     "iopub.execute_input": "2023-08-18T09:11:39.639628Z",
     "iopub.status.busy": "2023-08-18T09:11:39.639356Z",
     "iopub.status.idle": "2023-08-18T09:11:39.647132Z",
     "shell.execute_reply": "2023-08-18T09:11:39.646352Z"
    },
    "origin_pos": 39,
    "tab": [
     "paddle"
    ]
   },
   "outputs": [
    {
     "data": {
      "text/plain": [
       "Tensor(shape=[2, 1], dtype=float32, place=Place(cpu), stop_gradient=False,\n",
       "       [[1.46890318],\n",
       "        [1.54701924]])"
      ]
     },
     "execution_count": 8,
     "metadata": {},
     "output_type": "execute_result"
    }
   ],
   "source": [
    "net = nn.Sequential(MyLinear(64, 8), MyLinear(8, 1))\n",
    "net(paddle.rand([2, 64]))"
   ]
  },
  {
   "cell_type": "markdown",
   "id": "147f2cc0",
   "metadata": {
    "origin_pos": 40
   },
   "source": [
    "## 小结\n",
    "\n",
    "* 我们可以通过基本层类设计自定义层。这允许我们定义灵活的新层，其行为与深度学习框架中的任何现有层不同。\n",
    "* 在自定义层定义完成后，我们就可以在任意环境和网络架构中调用该自定义层。\n",
    "* 层可以有局部参数，这些参数可以通过内置函数创建。\n",
    "\n",
    "## 练习\n",
    "\n",
    "1. 设计一个接受输入并计算张量降维的层，它返回$y_k = \\sum_{i, j} W_{ijk} x_i x_j$。\n",
    "1. 设计一个返回输入数据的傅立叶系数前半部分的层。\n"
   ]
  },
  {
   "cell_type": "markdown",
   "id": "8a326e2c",
   "metadata": {
    "origin_pos": 44,
    "tab": [
     "paddle"
    ]
   },
   "source": [
    "[Discussions](https://discuss.d2l.ai/t/11780)\n"
   ]
  }
 ],
 "metadata": {
  "language_info": {
   "name": "python"
  },
  "required_libs": []
 },
 "nbformat": 4,
 "nbformat_minor": 5
}