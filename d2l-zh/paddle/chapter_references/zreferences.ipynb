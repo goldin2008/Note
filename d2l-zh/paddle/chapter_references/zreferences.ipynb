{
 "cells": [
  {
   "cell_type": "markdown",
   "id": "48ee6a7c",
   "metadata": {
    "origin_pos": 0
   },
   "source": [
    "```eval_rst\n",
    ".. only:: html\n",
    "\n",
    "   参考文献\n",
    "   ==========\n",
    "```\n",
    "\n",
    ":bibliography:`../d2l.bib`\n"
   ]
  }
 ],
 "metadata": {
  "language_info": {
   "name": "python"
  },
  "required_libs": []
 },
 "nbformat": 4,
 "nbformat_minor": 5
}